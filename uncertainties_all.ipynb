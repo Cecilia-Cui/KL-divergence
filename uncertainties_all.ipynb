{
 "cells": [
  {
   "cell_type": "code",
   "execution_count": 1,
   "id": "325e468b-3940-46eb-accd-e690ac88187e",
   "metadata": {},
   "outputs": [
    {
     "name": "stdout",
     "output_type": "stream",
     "text": [
      "不确定度结果已保存至 uncertainties_all.csv\n"
     ]
    }
   ],
   "source": [
    "import numpy as np\n",
    "import pandas as pd\n",
    "import matplotlib.pyplot as plt\n",
    "\n",
    "# Load the CSV file with all Fisher matrices\n",
    "file_path = \"./all_fisher_matrices.csv\"  # 更新为文件路径\n",
    "df = pd.read_csv(file_path)\n",
    "\n",
    "# 定义参数名\n",
    "PARAM_NAMES = [\n",
    "    \"Right Ascension (Ra)\",  \n",
    "    \"Declination (Dec)\", \n",
    "    \"Time Delay (t)\", \n",
    "    \"Luminosity Distance (Dist)\", \n",
    "    \"Polarization Angle (Pol)\",\n",
    "    \"Mass (M)\", \n",
    "    \"Inclination Angle (iota)\",  \n",
    "    \"Mass Ratio (eta)\", \n",
    "    \"Initial Phase (phi)\" \n",
    "]\n",
    "\n",
    "# 初始化不确定度结果的字典\n",
    "uncertainty_results = {}\n",
    "\n",
    "# 遍历每个Fisher矩阵记录\n",
    "for index, row in df.iterrows():\n",
    "    group = row['Group']\n",
    "    detector = row['Detector']\n",
    "    fisher_matrix = row.iloc[2:].values.astype(float).reshape(9, 9)  # 确保数据为数值类型并重塑为9x9矩阵\n",
    "\n",
    "    # 计算协方差矩阵\n",
    "    try:\n",
    "        cov_matrix = np.linalg.inv(fisher_matrix)  # Fisher矩阵的逆即为协方差矩阵\n",
    "        uncertainties = np.sqrt(np.diag(cov_matrix))  # 对角线元素开方即为不确定度\n",
    "\n",
    "        # 使用group和detector名称作为键存储不确定度\n",
    "        key = f\"{group}_{detector}\"\n",
    "        uncertainty_results[key] = uncertainties\n",
    "\n",
    "    except np.linalg.LinAlgError:\n",
    "        print(f\"{group} - {detector}: Fisher矩阵不可逆，跳过。\")\n",
    "\n",
    "# 将结果转换为DataFrame并保存\n",
    "uncertainty_df = pd.DataFrame(uncertainty_results, index=PARAM_NAMES).T\n",
    "uncertainty_df.index.name = \"Group_Detector\"\n",
    "\n",
    "# 保存不确定度结果为CSV文件\n",
    "output_file = \"uncertainties_all.csv\"\n",
    "uncertainty_df.to_csv(output_file)\n",
    "print(f\"不确定度结果已保存至 {output_file}\")"
   ]
  },
  {
   "cell_type": "code",
   "execution_count": null,
   "id": "daa0352e-7f4d-4ec4-8abb-68aba3725102",
   "metadata": {},
   "outputs": [],
   "source": []
  }
 ],
 "metadata": {
  "kernelspec": {
   "display_name": "Python 3 (ipykernel)",
   "language": "python",
   "name": "python3"
  },
  "language_info": {
   "codemirror_mode": {
    "name": "ipython",
    "version": 3
   },
   "file_extension": ".py",
   "mimetype": "text/x-python",
   "name": "python",
   "nbconvert_exporter": "python",
   "pygments_lexer": "ipython3",
   "version": "3.8.0"
  }
 },
 "nbformat": 4,
 "nbformat_minor": 5
}
