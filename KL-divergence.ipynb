{
 "cells": [
  {
   "cell_type": "code",
   "execution_count": 1,
   "id": "abb40460",
   "metadata": {},
   "outputs": [],
   "source": [
    "import numpy as np\n",
    "import pickle\n",
    "\n",
    "# 加载数据\n",
    "with open('R_ET_1_ET_2_ET_3_0.pkl', 'rb') as file:\n",
    "    data = pickle.load(file)"
   ]
  },
  {
   "cell_type": "code",
   "execution_count": 2,
   "id": "d8333ed7",
   "metadata": {},
   "outputs": [
    {
     "name": "stdout",
     "output_type": "stream",
     "text": [
      "Shape of cov_matrix_1: (9, 9)\n",
      "Shape of cov_matrix_2: (9, 9)\n",
      "Shape of cov_matrix_3: (9, 9)\n"
     ]
    }
   ],
   "source": [
    "# 提取协方差矩阵\n",
    "cov_matrix_1 = data[1]  # 直接使用 data[1] 作为第一个协方差矩阵\n",
    "cov_matrix_2 = data[2][0]  # data[2] 是一个包含两个 9x9 矩阵的三维数组\n",
    "cov_matrix_3 = data[2][1]  # 提取第二个 9x9 矩阵\n",
    "\n",
    "# 打印每个矩阵的形状以验证\n",
    "print(\"Shape of cov_matrix_1:\", cov_matrix_1.shape)\n",
    "print(\"Shape of cov_matrix_2:\", cov_matrix_2.shape)\n",
    "print(\"Shape of cov_matrix_3:\", cov_matrix_3.shape)\n"
   ]
  },
  {
   "cell_type": "code",
   "execution_count": 3,
   "id": "7193f2bc",
   "metadata": {},
   "outputs": [
    {
     "name": "stdout",
     "output_type": "stream",
     "text": [
      "KL Divergence between matrix 1 and matrix 2: 2475460236159.1973\n",
      "KL Divergence between matrix 1 and matrix 3: 5.292655202993046e-11\n",
      "KL Divergence between matrix 2 and matrix 3: 40.27238080442277\n"
     ]
    }
   ],
   "source": [
    "def kl_divergence(cov1, cov2):\n",
    "    \"\"\"\n",
    "    计算两个多元高斯分布之间的KL散度\n",
    "    \"\"\"\n",
    "    # 正则化防止不可逆情况\n",
    "    cov2 += np.eye(cov2.shape[0]) * 1e-10\n",
    "    \n",
    "    inv_cov2 = np.linalg.inv(cov2)\n",
    "    term1 = np.trace(inv_cov2 @ cov1)\n",
    "    term2 = np.log(np.linalg.det(cov2) / np.linalg.det(cov1))\n",
    "    k = cov1.shape[0]  # 矩阵的维度\n",
    "    return 0.5 * (term1 + term2 - k)\n",
    "\n",
    "# 计算并输出每两个矩阵之间的KL散度\n",
    "kl_12 = kl_divergence(cov_matrix_1, cov_matrix_2)\n",
    "kl_13 = kl_divergence(cov_matrix_1, cov_matrix_3)\n",
    "kl_23 = kl_divergence(cov_matrix_2, cov_matrix_3)\n",
    "\n",
    "print(f\"KL Divergence between matrix 1 and matrix 2: {kl_12}\")\n",
    "print(f\"KL Divergence between matrix 1 and matrix 3: {kl_13}\")\n",
    "print(f\"KL Divergence between matrix 2 and matrix 3: {kl_23}\")"
   ]
  },
  {
   "cell_type": "code",
   "execution_count": 4,
   "id": "d8d9e0ae",
   "metadata": {},
   "outputs": [
    {
     "name": "stdout",
     "output_type": "stream",
     "text": [
      "Eigenvalues of matrix:\n",
      "[5.54883037e+13 7.45020720e+10 2.47787916e+09 2.51884790e+06\n",
      " 6.27368445e+05 1.52860949e+05 1.12480808e+00 6.96705381e+02\n",
      " 3.66723461e+02]\n",
      "Matrix is positive definite: True\n",
      "Eigenvalues of matrix:\n",
      "[ 4.35817983e+13  1.31671512e+08  4.62886361e+05  1.18491117e+05\n",
      "  1.12816498e+05  2.85227222e+04  2.53960011e-04  9.68205793e-07\n",
      " -5.50115766e-09]\n",
      "Matrix is positive definite: False\n",
      "Eigenvalues of matrix:\n",
      "[5.54883037e+13 7.45020720e+10 2.47787916e+09 2.51884790e+06\n",
      " 6.27368445e+05 1.52860949e+05 1.12480808e+00 6.96705381e+02\n",
      " 3.66723461e+02]\n",
      "Matrix is positive definite: True\n"
     ]
    }
   ],
   "source": [
    "def check_matrix_properties(matrix):\n",
    "    eigvals = np.linalg.eigvals(matrix)\n",
    "    print(f\"Eigenvalues of matrix:\\n{eigvals}\")\n",
    "    print(f\"Matrix is positive definite: {np.all(eigvals > 0)}\")\n",
    "\n",
    "check_matrix_properties(cov_matrix_1)\n",
    "check_matrix_properties(cov_matrix_2)\n",
    "check_matrix_properties(cov_matrix_3)"
   ]
  },
  {
   "cell_type": "code",
   "execution_count": 5,
   "id": "635dbbfd",
   "metadata": {},
   "outputs": [],
   "source": [
    "def make_positive_definite(matrix, epsilon=1e-6):\n",
    "    \"\"\" 确保矩阵是正定的 \"\"\"\n",
    "    eigvals, eigvecs = np.linalg.eigh(matrix)\n",
    "    eigvals = np.clip(eigvals, epsilon, None)  # 将小于 epsilon 的特征值设置为 epsilon\n",
    "    return eigvecs @ np.diag(eigvals) @ eigvecs.T\n",
    "\n",
    "cov_matrix_2_corrected = make_positive_definite(cov_matrix_2)"
   ]
  },
  {
   "cell_type": "code",
   "execution_count": 6,
   "id": "2cf3f7e8",
   "metadata": {},
   "outputs": [
    {
     "name": "stdout",
     "output_type": "stream",
     "text": [
      "KL Divergence between matrix 1 and corrected matrix 2: 126421928.85497607\n",
      "KL Divergence between corrected matrix 2 and matrix 3: 24.534753937784245\n"
     ]
    }
   ],
   "source": [
    "kl_12_corrected = kl_divergence(cov_matrix_1, cov_matrix_2_corrected)\n",
    "kl_23_corrected = kl_divergence(cov_matrix_2_corrected, cov_matrix_3)\n",
    "\n",
    "print(f\"KL Divergence between matrix 1 and corrected matrix 2: {kl_12_corrected}\")\n",
    "print(f\"KL Divergence between corrected matrix 2 and matrix 3: {kl_23_corrected}\")"
   ]
  },
  {
   "cell_type": "code",
   "execution_count": null,
   "id": "2ba7b493",
   "metadata": {},
   "outputs": [],
   "source": []
  }
 ],
 "metadata": {
  "kernelspec": {
   "display_name": "Python 3 (ipykernel)",
   "language": "python",
   "name": "python3"
  },
  "language_info": {
   "codemirror_mode": {
    "name": "ipython",
    "version": 3
   },
   "file_extension": ".py",
   "mimetype": "text/x-python",
   "name": "python",
   "nbconvert_exporter": "python",
   "pygments_lexer": "ipython3",
   "version": "3.8.16"
  }
 },
 "nbformat": 4,
 "nbformat_minor": 5
}
