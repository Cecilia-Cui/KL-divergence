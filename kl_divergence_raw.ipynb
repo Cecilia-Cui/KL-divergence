{
 "cells": [
  {
   "cell_type": "code",
   "execution_count": 1,
   "id": "538c45a4-0596-4e7d-9563-f602816e7ce3",
   "metadata": {},
   "outputs": [
    {
     "name": "stdout",
     "output_type": "stream",
     "text": [
      "[[ 6.06581298e+03  1.11431431e+03  4.29281604e+06 -6.40100989e+05\n",
      "  -1.04790159e+02 -3.24742732e+03 -1.52783925e+03  4.17787951e+06\n",
      "   6.39570277e+02]\n",
      " [ 1.11431431e+03  3.60343307e+03 -4.61336618e+06 -1.91300340e+05\n",
      "   8.89112112e+02  1.51715780e+03 -1.52939868e+03 -4.66645666e+06\n",
      "  -1.01447154e+02]\n",
      " [ 4.29281604e+06 -4.61336618e+06  3.03092466e+10 -2.86203519e+08\n",
      "  -6.26395398e+02 -5.75022417e+06 -3.24084724e+06  3.06330615e+10\n",
      "   1.18413207e+06]\n",
      " [-6.40100989e+05 -1.91300340e+05 -2.86203519e+08  6.94119658e+07\n",
      "  -5.16025537e+01  2.96353897e+05  1.64987338e+05 -2.73097157e+08\n",
      "  -6.06031240e+04]\n",
      " [-1.04790159e+02  8.89112112e+02 -6.26395398e+02 -5.16025537e+01\n",
      "   5.24131985e+02  6.05066016e+02 -1.06598003e+03 -6.72166336e+02\n",
      "   2.32077127e-02]\n",
      " [-3.24742732e+03  1.51715780e+03 -5.75022417e+06  2.96353897e+05\n",
      "   6.05066016e+02  3.05403434e+03  8.46779311e+01 -5.70913034e+06\n",
      "  -4.82542903e+02]\n",
      " [-1.52783925e+03 -1.52939868e+03 -3.24084724e+06  1.64987338e+05\n",
      "  -1.06598003e+03  8.46779311e+01  2.90251702e+03 -3.21866751e+06\n",
      "  -2.69510164e+02]\n",
      " [ 4.17787951e+06 -4.66645666e+06  3.06330615e+10 -2.73097157e+08\n",
      "  -6.72166336e+02 -5.70913034e+06 -3.21866751e+06  3.09693654e+10\n",
      "   1.17587654e+06]\n",
      " [ 6.39570277e+02 -1.01447154e+02  1.18413207e+06 -6.06031240e+04\n",
      "   2.32077127e-02 -4.82542903e+02 -2.69510164e+02  1.17587654e+06\n",
      "   9.88660042e+01]]\n"
     ]
    }
   ],
   "source": [
    "import numpy as np\n",
    "import pickle\n",
    "\n",
    "# 指定.pkl文件的路径\n",
    "file_path = \"./R_ET_1_0.pkl\"\n",
    "\n",
    "# 打开并读取.pkl文件中的数据\n",
    "with open(file_path, 'rb') as f:\n",
    "    [SNR, FM, wholeFM, SNRw] = pickle.load(f)\n",
    "\n",
    "fisher_matrix_1 = FM\n",
    "print(fisher_matrix_1)"
   ]
  },
  {
   "cell_type": "code",
   "execution_count": 2,
   "id": "16d891e2-7466-427c-b311-f53894828e3c",
   "metadata": {},
   "outputs": [
    {
     "name": "stdout",
     "output_type": "stream",
     "text": [
      "[[ 3.77449911e+04  3.51134160e+04  2.13304453e+07 -4.81043881e+06\n",
      "   1.91979188e+02 -2.83239016e+03 -2.71310895e+03  2.04310387e+07\n",
      "   4.26474975e+03]\n",
      " [ 3.51134160e+04  3.38244143e+04  1.29569605e+07 -4.47181903e+06\n",
      "   2.18105850e+03 -1.86920248e+03 -2.63082082e+03  1.20997815e+07\n",
      "   3.62214365e+03]\n",
      " [ 2.13304453e+07  1.29569605e+07  2.65609881e+11 -2.51612446e+09\n",
      "  -2.24486537e+03 -7.01947578e+06 -6.49029737e+06  2.68437334e+11\n",
      "   1.03961717e+07]\n",
      " [-4.81043881e+06 -4.47181903e+06 -2.51612446e+09  6.13431985e+08\n",
      "   8.92326575e+02  3.61719038e+05  3.36124203e+05 -2.40035102e+09\n",
      "  -5.34640400e+05]\n",
      " [ 1.91979188e+02  2.18105850e+03 -2.24486537e+03  8.92326575e+02\n",
      "   4.61553481e+03  1.22733534e+03 -7.44653299e+02 -2.53961642e+03\n",
      "  -9.30940757e-02]\n",
      " [-2.83239016e+03 -1.86920248e+03 -7.01947578e+06  3.61719038e+05\n",
      "   1.22733534e+03  7.24103200e+02  1.71359350e+02 -6.96960187e+06\n",
      "  -5.88513376e+02]\n",
      " [-2.71310895e+03 -2.63082082e+03 -6.49029737e+06  3.36124203e+05\n",
      "  -7.44653299e+02  1.71359350e+02  4.63191830e+02 -6.44307610e+06\n",
      "  -5.46520689e+02]\n",
      " [ 2.04310387e+07  1.20997815e+07  2.68437334e+11 -2.40035102e+09\n",
      "  -2.53961642e+03 -6.96960187e+06 -6.44307610e+06  2.71374455e+11\n",
      "   1.03225641e+07]\n",
      " [ 4.26474975e+03  3.62214365e+03  1.03961717e+07 -5.34640400e+05\n",
      "  -9.30940757e-02 -5.88513376e+02 -5.46520689e+02  1.03225641e+07\n",
      "   8.70745910e+02]]\n"
     ]
    }
   ],
   "source": [
    "# 处理第二个文件\n",
    "file_path = \"./R_ET_2_0.pkl\"\n",
    "with open(file_path, 'rb') as f:\n",
    "    [SNR, FM, wholeFM, SNRw] = pickle.load(f)\n",
    "fisher_matrix_2 = FM\n",
    "print(fisher_matrix_2)"
   ]
  },
  {
   "cell_type": "code",
   "execution_count": 3,
   "id": "a753bca5-a884-463f-8d9b-cf282dc97d3b",
   "metadata": {},
   "outputs": [
    {
     "name": "stdout",
     "output_type": "stream",
     "text": [
      "[[ 2.68050417e+04  2.28168260e+04  1.49245739e+07 -3.36973773e+06\n",
      "   1.07902314e+03 -3.25709384e+03  3.57664959e+03  1.42932382e+07\n",
      "   2.98905610e+03]\n",
      " [ 2.28168260e+04  2.21015596e+04  6.29488810e+06 -2.99130020e+06\n",
      "  -1.76357299e+03 -1.09386853e+03  3.42963502e+03  5.71306784e+06\n",
      "   2.30720500e+03]\n",
      " [ 1.49245739e+07  6.29488810e+06  1.84800186e+11 -1.75780978e+09\n",
      "  -9.08333245e+02 -6.48157363e+06  9.37987116e+06  1.86758926e+11\n",
      "   7.24926607e+06]\n",
      " [-3.36973773e+06 -2.99130020e+06 -1.75780978e+09  4.29634029e+08\n",
      "   9.32766254e+02  3.33659240e+05 -4.83246599e+05 -1.67656377e+09\n",
      "  -3.74526265e+05]\n",
      " [ 1.07902314e+03 -1.76357299e+03 -9.08333245e+02  9.32766254e+02\n",
      "   3.23002269e+03 -1.76618238e+03 -8.33312931e+02 -1.09360904e+03\n",
      "  -1.31690844e-01]\n",
      " [-3.25709384e+03 -1.09386853e+03 -6.48157363e+06  3.33659240e+05\n",
      "  -1.76618238e+03  1.45140806e+03 -2.46516769e+02 -6.43512407e+06\n",
      "  -5.43902050e+02]\n",
      " [ 3.57664959e+03  3.42963502e+03  9.37987116e+06 -4.83246599e+05\n",
      "  -8.33312931e+02 -2.46516769e+02  1.23023102e+03  9.31311851e+06\n",
      "   7.86537764e+02]\n",
      " [ 1.42932382e+07  5.71306784e+06  1.86758926e+11 -1.67656377e+09\n",
      "  -1.09360904e+03 -6.43512407e+06  9.31311851e+06  1.88794145e+11\n",
      "   7.19703366e+06]\n",
      " [ 2.98905610e+03  2.30720500e+03  7.24926607e+06 -3.74526265e+05\n",
      "  -1.31690844e-01 -5.43902050e+02  7.86537764e+02  7.19703366e+06\n",
      "   6.09304418e+02]]\n"
     ]
    }
   ],
   "source": [
    "# 处理第三个文件\n",
    "file_path = \"./R_ET_3_0.pkl\"\n",
    "with open(file_path, 'rb') as f:\n",
    "    [SNR, FM, wholeFM, SNRw] = pickle.load(f)\n",
    "fisher_matrix_3 = FM\n",
    "print(fisher_matrix_3)"
   ]
  },
  {
   "cell_type": "code",
   "execution_count": 4,
   "id": "2fdb1c3f-b297-4b81-b871-aacfe53a83ac",
   "metadata": {},
   "outputs": [
    {
     "name": "stdout",
     "output_type": "stream",
     "text": [
      "Shape of fisher_matrix_1: (9, 9)\n",
      "Shape of cov_matrix_1: (9, 9)\n",
      "Shape of fisher_matrix_2: (9, 9)\n",
      "Shape of cov_matrix_2: (9, 9)\n",
      "Shape of fisher_matrix_3: (9, 9)\n",
      "Shape of cov_matrix_3: (9, 9)\n"
     ]
    }
   ],
   "source": [
    "# 计算协方差矩阵\n",
    "def compute_covariance(fisher_matrix):\n",
    "    return np.linalg.pinv(fisher_matrix)\n",
    "\n",
    "# 计算协方差矩阵\n",
    "cov_matrix_1 = compute_covariance(fisher_matrix_1)\n",
    "cov_matrix_2 = compute_covariance(fisher_matrix_2)\n",
    "cov_matrix_3 = compute_covariance(fisher_matrix_3)\n",
    "\n",
    "# 打印验证\n",
    "print(\"Shape of fisher_matrix_1:\", fisher_matrix_1.shape)\n",
    "print(\"Shape of cov_matrix_1:\", cov_matrix_1.shape)\n",
    "print(\"Shape of fisher_matrix_2:\", fisher_matrix_2.shape)\n",
    "print(\"Shape of cov_matrix_2:\", cov_matrix_2.shape)\n",
    "print(\"Shape of fisher_matrix_3:\", fisher_matrix_3.shape)\n",
    "print(\"Shape of cov_matrix_3:\", cov_matrix_3.shape)"
   ]
  },
  {
   "cell_type": "code",
   "execution_count": 5,
   "id": "b19f21b1-a143-4999-ae76-c217eec67c66",
   "metadata": {},
   "outputs": [],
   "source": [
    "# 优化均值计算\n",
    "mean1 = np.mean(cov_matrix_1, axis=0)\n",
    "mean2 = np.mean(cov_matrix_2, axis=0)\n",
    "mean3 = np.mean(cov_matrix_3, axis=0)"
   ]
  },
  {
   "cell_type": "code",
   "execution_count": 6,
   "id": "efba9adf",
   "metadata": {},
   "outputs": [],
   "source": [
    "# 计算 KL 散度\n",
    "def kl_divergence(cov1, mean1, cov2, mean2, matrix_name=\"\"):\n",
    "    try:\n",
    "        inv_cov2 = np.linalg.inv(cov2)\n",
    "    except np.linalg.LinAlgError:\n",
    "        print(f\"{matrix_name} inversion failed, skipping KL computation.\")\n",
    "        return np.nan\n",
    "\n",
    "    term1 = np.trace(inv_cov2 @ cov1)\n",
    "    print(f\"{matrix_name} KL term1 (Trace): {term1}\")\n",
    "\n",
    "    sign1, logdet1 = np.linalg.slogdet(cov1)\n",
    "    sign2, logdet2 = np.linalg.slogdet(cov2)\n",
    "    if sign1 <= 0 or sign2 <= 0:\n",
    "        print(f\"{matrix_name} determinant is non-positive.\")\n",
    "        return np.nan\n",
    "\n",
    "    term2 = logdet2 - logdet1\n",
    "    print(f\"{matrix_name} KL term2 (Log determinant difference): {term2}\")\n",
    "\n",
    "    term3 = (mean2 - mean1).T @ inv_cov2 @ (mean2 - mean1)\n",
    "    print(f\"{matrix_name} KL term3 (Mean difference): {term3}\")\n",
    "\n",
    "    result = 0.5 * (term1 + term2 + term3 - cov1.shape[0])\n",
    "    print(f\"{matrix_name} KL result: {result}\")\n",
    "\n",
    "    return max(result, 0)"
   ]
  },
  {
   "cell_type": "code",
   "execution_count": 7,
   "id": "4ebf6f62",
   "metadata": {},
   "outputs": [
    {
     "name": "stdout",
     "output_type": "stream",
     "text": [
      "matrix_12 KL term1 (Trace): -6887074500845846.0\n",
      "matrix_12 determinant is non-positive.\n",
      "matrix_13 inversion failed, skipping KL computation.\n",
      "matrix_23 inversion failed, skipping KL computation.\n",
      "\n",
      "==== KL Divergence ====\n",
      "KL Divergence between matrix 1 and matrix 2: nan\n",
      "KL Divergence between matrix 1 and matrix 3: nan\n",
      "KL Divergence between matrix 2 and matrix 3: nan\n"
     ]
    }
   ],
   "source": [
    "# 打印 KL 散度\n",
    "kl_12 = kl_divergence(cov_matrix_1, mean1, cov_matrix_2, mean2, \"matrix_12\")\n",
    "kl_13 = kl_divergence(cov_matrix_1, mean1, cov_matrix_3, mean3, \"matrix_13\")\n",
    "kl_23 = kl_divergence(cov_matrix_2, mean2, cov_matrix_3, mean3, \"matrix_23\")\n",
    "\n",
    "print(\"\\n==== KL Divergence ====\")\n",
    "print(f\"KL Divergence between matrix 1 and matrix 2: {kl_12}\")\n",
    "print(f\"KL Divergence between matrix 1 and matrix 3: {kl_13}\")\n",
    "print(f\"KL Divergence between matrix 2 and matrix 3: {kl_23}\")"
   ]
  },
  {
   "cell_type": "code",
   "execution_count": null,
   "id": "2eb759d1-02bf-4c19-8af8-de496f99c6a6",
   "metadata": {},
   "outputs": [],
   "source": []
  }
 ],
 "metadata": {
  "kernelspec": {
   "display_name": "Python 3 (ipykernel)",
   "language": "python",
   "name": "python3"
  },
  "language_info": {
   "codemirror_mode": {
    "name": "ipython",
    "version": 3
   },
   "file_extension": ".py",
   "mimetype": "text/x-python",
   "name": "python",
   "nbconvert_exporter": "python",
   "pygments_lexer": "ipython3",
   "version": "3.8.0"
  }
 },
 "nbformat": 4,
 "nbformat_minor": 5
}
