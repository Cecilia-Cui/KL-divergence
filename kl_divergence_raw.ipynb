{
 "cells": [
  {
   "cell_type": "code",
   "execution_count": 1,
   "id": "538c45a4-0596-4e7d-9563-f602816e7ce3",
   "metadata": {},
   "outputs": [
    {
     "name": "stdout",
     "output_type": "stream",
     "text": [
      "[[ 6.25162357e+02  5.50588656e+03  4.95517563e+05  1.59372497e+03\n",
      "  -6.30320337e+02 -6.58566336e+05 -3.91101952e+02]\n",
      " [ 5.50588656e+03  1.25797291e+05  1.14203147e+07  2.04696721e+02\n",
      "   1.39120379e+03 -3.99264456e+07 -8.73721741e+03]\n",
      " [ 4.95517563e+05  1.14203147e+07  1.03698696e+09  6.39836649e+02\n",
      "   1.34072920e+05 -3.58463400e+09 -7.92854858e+05]\n",
      " [ 1.59372497e+03  2.04696721e+02  6.39836649e+02  6.62828596e+03\n",
      "  -2.84814829e+03 -7.40254013e+03 -2.88889625e+02]\n",
      " [-6.30320337e+02  1.39120379e+03  1.34072920e+05 -2.84814829e+03\n",
      "   1.25901745e+03 -2.47882681e+06 -8.34020492e+01]\n",
      " [-6.58566336e+05 -3.99264456e+07 -3.58463400e+09 -7.40254013e+03\n",
      "  -2.47882681e+06  3.76758877e+11  1.47345779e+07]\n",
      " [-3.91101952e+02 -8.73721741e+03 -7.92854858e+05 -2.88889625e+02\n",
      "  -8.34020492e+01  1.47345779e+07  1.23944815e+03]]\n"
     ]
    }
   ],
   "source": [
    "import numpy as np\n",
    "import pickle\n",
    "\n",
    "# 指定.pkl文件的路径\n",
    "file_path = \"./R_ET_1_0.pkl\"\n",
    "\n",
    "# 打开并读取.pkl文件中的数据\n",
    "with open(file_path, 'rb') as f:\n",
    "    [SNR, FM, wholeFM, SNRw] = pickle.load(f)\n",
    "\n",
    "# 提取 9x9 的 Fisher 矩阵，并仅保留前 7 个参数的子矩阵\n",
    "def extract_relevant_submatrix(matrix, size=7):\n",
    "    \"\"\"提取前 size 个参数的子矩阵\"\"\"\n",
    "    return matrix[:size, :size]\n",
    "\n",
    "fisher_matrix_1 = extract_relevant_submatrix(FM)\n",
    "print(fisher_matrix_1)"
   ]
  },
  {
   "cell_type": "code",
   "execution_count": 2,
   "id": "16d891e2-7466-427c-b311-f53894828e3c",
   "metadata": {},
   "outputs": [
    {
     "name": "stdout",
     "output_type": "stream",
     "text": [
      "[[ 7.04889104e+02  3.83210915e+03  4.16671716e+05 -1.70010064e+03\n",
      "  -9.10510532e+02 -3.89619537e+05  4.39438430e+02]\n",
      " [ 3.83210915e+03  1.09653058e+05  9.84620778e+06  2.56776730e+03\n",
      "   2.91769957e+03 -3.47029700e+07  9.82933138e+03]\n",
      " [ 4.16671716e+05  9.84620778e+06  8.93588681e+08  5.83301204e+02\n",
      "   1.33330583e+05 -3.10804759e+09  9.04640633e+05]\n",
      " [-1.70010064e+03  2.56776730e+03  5.83301204e+02  5.73130357e+03\n",
      "   3.24137321e+03 -6.70079438e+03 -3.10432162e+02]\n",
      " [-9.10510532e+02  2.91769957e+03  1.33330583e+05  3.24137321e+03\n",
      "   1.87305443e+03 -2.46106977e+06  9.48538336e+01]\n",
      " [-3.89619537e+05 -3.47029700e+07 -3.10804759e+09 -6.70079438e+03\n",
      "  -2.46106977e+06  3.29279258e+11 -1.66555844e+07]\n",
      " [ 4.39438430e+02  9.82933138e+03  9.04640633e+05 -3.10432162e+02\n",
      "   9.48538336e+01 -1.66555844e+07  1.85450516e+03]]\n"
     ]
    }
   ],
   "source": [
    "# 处理第二个文件\n",
    "file_path = \"./R_ET_2_0.pkl\"\n",
    "with open(file_path, 'rb') as f:\n",
    "    [SNR, FM, wholeFM, SNRw] = pickle.load(f)\n",
    "fisher_matrix_2 = extract_relevant_submatrix(FM)\n",
    "print(fisher_matrix_2)"
   ]
  },
  {
   "cell_type": "code",
   "execution_count": 3,
   "id": "a753bca5-a884-463f-8d9b-cf282dc97d3b",
   "metadata": {},
   "outputs": [
    {
     "name": "stdout",
     "output_type": "stream",
     "text": [
      "[[ 1.71097482e+03 -2.01574273e+03 -6.53431125e+04  2.41872229e+02\n",
      "  -3.23282821e+03  1.29717641e+06 -6.89603632e+01]\n",
      " [-2.01574273e+03  3.53993636e+03  1.77150424e+05 -1.71567840e+02\n",
      "   3.91288660e+03 -1.44958229e+06 -1.49652191e+03]\n",
      " [-6.53431125e+04  1.77150424e+05  1.11239413e+07  3.65512731e+00\n",
      "   1.32416748e+05 -3.70691826e+07 -1.26772612e+05]\n",
      " [ 2.41872229e+02 -1.71567840e+02  3.65512731e+00  6.96489314e+01\n",
      "  -4.46673580e+02 -5.18076640e+01 -4.74031233e+02]\n",
      " [-3.23282821e+03  3.91288660e+03  1.32416748e+05 -4.46673580e+02\n",
      "   6.11764085e+03 -2.44623778e+06 -1.31962575e+01]\n",
      " [ 1.29717641e+06 -1.44958229e+06 -3.70691826e+07 -5.18076640e+01\n",
      "  -2.44623778e+06  3.71338138e+09  2.19779602e+06]\n",
      " [-6.89603632e+01 -1.49652191e+03 -1.26772612e+05 -4.74031233e+02\n",
      "  -1.31962575e+01  2.19779602e+06  6.10459399e+03]]\n"
     ]
    }
   ],
   "source": [
    "# 处理第三个文件\n",
    "file_path = \"./R_ET_3_0.pkl\"\n",
    "with open(file_path, 'rb') as f:\n",
    "    [SNR, FM, wholeFM, SNRw] = pickle.load(f)\n",
    "fisher_matrix_3 = extract_relevant_submatrix(FM)\n",
    "print(fisher_matrix_3)"
   ]
  },
  {
   "cell_type": "code",
   "execution_count": 4,
   "id": "2fdb1c3f-b297-4b81-b871-aacfe53a83ac",
   "metadata": {},
   "outputs": [
    {
     "name": "stdout",
     "output_type": "stream",
     "text": [
      "Shape of fisher_matrix_1: (7, 7)\n",
      "Shape of cov_matrix_1: (7, 7)\n",
      "Shape of fisher_matrix_2: (7, 7)\n",
      "Shape of cov_matrix_2: (7, 7)\n",
      "Shape of fisher_matrix_3: (7, 7)\n",
      "Shape of cov_matrix_3: (7, 7)\n"
     ]
    }
   ],
   "source": [
    "# 计算协方差矩阵\n",
    "def compute_covariance(fisher_matrix):\n",
    "    return np.linalg.pinv(fisher_matrix)\n",
    "\n",
    "# 计算协方差矩阵\n",
    "cov_matrix_1 = compute_covariance(fisher_matrix_1)\n",
    "cov_matrix_2 = compute_covariance(fisher_matrix_2)\n",
    "cov_matrix_3 = compute_covariance(fisher_matrix_3)\n",
    "\n",
    "# 打印验证\n",
    "print(\"Shape of fisher_matrix_1:\", fisher_matrix_1.shape)\n",
    "print(\"Shape of cov_matrix_1:\", cov_matrix_1.shape)\n",
    "print(\"Shape of fisher_matrix_2:\", fisher_matrix_2.shape)\n",
    "print(\"Shape of cov_matrix_2:\", cov_matrix_2.shape)\n",
    "print(\"Shape of fisher_matrix_3:\", fisher_matrix_3.shape)\n",
    "print(\"Shape of cov_matrix_3:\", cov_matrix_3.shape)"
   ]
  },
  {
   "cell_type": "code",
   "execution_count": 5,
   "id": "b19f21b1-a143-4999-ae76-c217eec67c66",
   "metadata": {},
   "outputs": [],
   "source": [
    "# 优化均值计算\n",
    "mean1 = np.mean(cov_matrix_1, axis=0)\n",
    "mean2 = np.mean(cov_matrix_2, axis=0)\n",
    "mean3 = np.mean(cov_matrix_3, axis=0)"
   ]
  },
  {
   "cell_type": "code",
   "execution_count": 6,
   "id": "efba9adf",
   "metadata": {},
   "outputs": [],
   "source": [
    "# 计算 KL 散度\n",
    "def kl_divergence(cov1, mean1, cov2, mean2, matrix_name=\"\"):\n",
    "    try:\n",
    "        inv_cov2 = np.linalg.inv(cov2)\n",
    "    except np.linalg.LinAlgError:\n",
    "        print(f\"{matrix_name} inversion failed, skipping KL computation.\")\n",
    "        return np.nan\n",
    "\n",
    "    term1 = np.trace(inv_cov2 @ cov1)\n",
    "    print(f\"{matrix_name} KL term1 (Trace): {term1}\")\n",
    "\n",
    "    sign1, logdet1 = np.linalg.slogdet(cov1)\n",
    "    sign2, logdet2 = np.linalg.slogdet(cov2)\n",
    "    if sign1 <= 0 or sign2 <= 0:\n",
    "        print(f\"{matrix_name} determinant is non-positive.\")\n",
    "        return np.nan\n",
    "\n",
    "    term2 = logdet2 - logdet1\n",
    "    print(f\"{matrix_name} KL term2 (Log determinant difference): {term2}\")\n",
    "\n",
    "    term3 = (mean2 - mean1).T @ inv_cov2 @ (mean2 - mean1)\n",
    "    print(f\"{matrix_name} KL term3 (Mean difference): {term3}\")\n",
    "\n",
    "    result = 0.5 * (term1 + term2 + term3 - cov1.shape[0])\n",
    "    print(f\"{matrix_name} KL result: {result}\")\n",
    "\n",
    "    return max(result, 0)"
   ]
  },
  {
   "cell_type": "code",
   "execution_count": 7,
   "id": "4ebf6f62",
   "metadata": {},
   "outputs": [
    {
     "name": "stdout",
     "output_type": "stream",
     "text": [
      "matrix_12 KL term1 (Trace): 96242.48920798408\n",
      "matrix_12 KL term2 (Log determinant difference): 0.13381746615884538\n",
      "matrix_12 KL term3 (Mean difference): 1196032.7000441225\n",
      "matrix_12 KL result: 646134.1615347863\n",
      "matrix_13 KL term1 (Trace): 96242.78836101791\n",
      "matrix_13 KL term2 (Log determinant difference): 16.60423275815829\n",
      "matrix_13 KL term3 (Mean difference): 1198834.3842477845\n",
      "matrix_13 KL result: 647543.3884207803\n",
      "matrix_23 KL term1 (Trace): 133644.30918240803\n",
      "matrix_23 KL term2 (Log determinant difference): 16.470415291999444\n",
      "matrix_23 KL term3 (Mean difference): 2860636.1256417725\n",
      "matrix_23 KL result: 1497144.9526197363\n",
      "\n",
      "==== KL Divergence ====\n",
      "KL Divergence between matrix 1 and matrix 2: 646134.1615347863\n",
      "KL Divergence between matrix 1 and matrix 3: 647543.3884207803\n",
      "KL Divergence between matrix 2 and matrix 3: 1497144.9526197363\n"
     ]
    }
   ],
   "source": [
    "# 打印 KL 散度\n",
    "kl_12 = kl_divergence(cov_matrix_1, mean1, cov_matrix_2, mean2, \"matrix_12\")\n",
    "kl_13 = kl_divergence(cov_matrix_1, mean1, cov_matrix_3, mean3, \"matrix_13\")\n",
    "kl_23 = kl_divergence(cov_matrix_2, mean2, cov_matrix_3, mean3, \"matrix_23\")\n",
    "\n",
    "print(\"\\n==== KL Divergence ====\")\n",
    "print(f\"KL Divergence between matrix 1 and matrix 2: {kl_12}\")\n",
    "print(f\"KL Divergence between matrix 1 and matrix 3: {kl_13}\")\n",
    "print(f\"KL Divergence between matrix 2 and matrix 3: {kl_23}\")"
   ]
  },
  {
   "cell_type": "code",
   "execution_count": null,
   "id": "2eb759d1-02bf-4c19-8af8-de496f99c6a6",
   "metadata": {},
   "outputs": [],
   "source": []
  }
 ],
 "metadata": {
  "kernelspec": {
   "display_name": "Python 3 (ipykernel)",
   "language": "python",
   "name": "python3"
  },
  "language_info": {
   "codemirror_mode": {
    "name": "ipython",
    "version": 3
   },
   "file_extension": ".py",
   "mimetype": "text/x-python",
   "name": "python",
   "nbconvert_exporter": "python",
   "pygments_lexer": "ipython3",
   "version": "3.8.0"
  }
 },
 "nbformat": 4,
 "nbformat_minor": 5
}
