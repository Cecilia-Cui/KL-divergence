{
 "cells": [
  {
   "cell_type": "code",
   "execution_count": 1,
   "id": "538c45a4-0596-4e7d-9563-f602816e7ce3",
   "metadata": {},
   "outputs": [
    {
     "name": "stdout",
     "output_type": "stream",
     "text": [
      "[[ 6.06581298e+03  1.11431431e+03  4.29281604e+06 -6.40100989e+05\n",
      "  -1.04790159e+02 -3.24742732e+03 -1.52783925e+03  4.17787951e+06\n",
      "   6.39570277e+02]\n",
      " [ 1.11431431e+03  3.60343307e+03 -4.61336618e+06 -1.91300340e+05\n",
      "   8.89112112e+02  1.51715780e+03 -1.52939868e+03 -4.66645666e+06\n",
      "  -1.01447154e+02]\n",
      " [ 4.29281604e+06 -4.61336618e+06  3.03092466e+10 -2.86203519e+08\n",
      "  -6.26395398e+02 -5.75022417e+06 -3.24084724e+06  3.06330615e+10\n",
      "   1.18413207e+06]\n",
      " [-6.40100989e+05 -1.91300340e+05 -2.86203519e+08  6.94119658e+07\n",
      "  -5.16025537e+01  2.96353897e+05  1.64987338e+05 -2.73097157e+08\n",
      "  -6.06031240e+04]\n",
      " [-1.04790159e+02  8.89112112e+02 -6.26395398e+02 -5.16025537e+01\n",
      "   5.24131985e+02  6.05066016e+02 -1.06598003e+03 -6.72166336e+02\n",
      "   2.32077127e-02]\n",
      " [-3.24742732e+03  1.51715780e+03 -5.75022417e+06  2.96353897e+05\n",
      "   6.05066016e+02  3.05403434e+03  8.46779311e+01 -5.70913034e+06\n",
      "  -4.82542903e+02]\n",
      " [-1.52783925e+03 -1.52939868e+03 -3.24084724e+06  1.64987338e+05\n",
      "  -1.06598003e+03  8.46779311e+01  2.90251702e+03 -3.21866751e+06\n",
      "  -2.69510164e+02]\n",
      " [ 4.17787951e+06 -4.66645666e+06  3.06330615e+10 -2.73097157e+08\n",
      "  -6.72166336e+02 -5.70913034e+06 -3.21866751e+06  3.09693654e+10\n",
      "   1.17587654e+06]\n",
      " [ 6.39570277e+02 -1.01447154e+02  1.18413207e+06 -6.06031240e+04\n",
      "   2.32077127e-02 -4.82542903e+02 -2.69510164e+02  1.17587654e+06\n",
      "   9.88660042e+01]]\n"
     ]
    }
   ],
   "source": [
    "import numpy as np\n",
    "import pickle\n",
    "\n",
    "# 指定.pkl文件的路径\n",
    "file_path = \"./R_ET_1_0.pkl\"\n",
    "\n",
    "# 打开并读取.pkl文件中的数据\n",
    "with open(file_path, 'rb') as f:\n",
    "    [SNR, FM, wholeFM, SNRw] = pickle.load(f)\n",
    "\n",
    "fisher_matrix_1 = FM\n",
    "\n",
    "print(fisher_matrix_1)"
   ]
  },
  {
   "cell_type": "code",
   "execution_count": 2,
   "id": "16d891e2-7466-427c-b311-f53894828e3c",
   "metadata": {},
   "outputs": [
    {
     "name": "stdout",
     "output_type": "stream",
     "text": [
      "[[ 3.77449911e+04  3.51134160e+04  2.13304453e+07 -4.81043881e+06\n",
      "   1.91979188e+02 -2.83239016e+03 -2.71310895e+03  2.04310387e+07\n",
      "   4.26474975e+03]\n",
      " [ 3.51134160e+04  3.38244143e+04  1.29569605e+07 -4.47181903e+06\n",
      "   2.18105850e+03 -1.86920248e+03 -2.63082082e+03  1.20997815e+07\n",
      "   3.62214365e+03]\n",
      " [ 2.13304453e+07  1.29569605e+07  2.65609881e+11 -2.51612446e+09\n",
      "  -2.24486537e+03 -7.01947578e+06 -6.49029737e+06  2.68437334e+11\n",
      "   1.03961717e+07]\n",
      " [-4.81043881e+06 -4.47181903e+06 -2.51612446e+09  6.13431985e+08\n",
      "   8.92326575e+02  3.61719038e+05  3.36124203e+05 -2.40035102e+09\n",
      "  -5.34640400e+05]\n",
      " [ 1.91979188e+02  2.18105850e+03 -2.24486537e+03  8.92326575e+02\n",
      "   4.61553481e+03  1.22733534e+03 -7.44653299e+02 -2.53961642e+03\n",
      "  -9.30940757e-02]\n",
      " [-2.83239016e+03 -1.86920248e+03 -7.01947578e+06  3.61719038e+05\n",
      "   1.22733534e+03  7.24103200e+02  1.71359350e+02 -6.96960187e+06\n",
      "  -5.88513376e+02]\n",
      " [-2.71310895e+03 -2.63082082e+03 -6.49029737e+06  3.36124203e+05\n",
      "  -7.44653299e+02  1.71359350e+02  4.63191830e+02 -6.44307610e+06\n",
      "  -5.46520689e+02]\n",
      " [ 2.04310387e+07  1.20997815e+07  2.68437334e+11 -2.40035102e+09\n",
      "  -2.53961642e+03 -6.96960187e+06 -6.44307610e+06  2.71374455e+11\n",
      "   1.03225641e+07]\n",
      " [ 4.26474975e+03  3.62214365e+03  1.03961717e+07 -5.34640400e+05\n",
      "  -9.30940757e-02 -5.88513376e+02 -5.46520689e+02  1.03225641e+07\n",
      "   8.70745910e+02]]\n"
     ]
    }
   ],
   "source": [
    "# 指定.pkl文件的路径\n",
    "file_path = \"./R_ET_2_0.pkl\"\n",
    "\n",
    "# 打开并读取.pkl文件中的数据\n",
    "with open(file_path, 'rb') as f:\n",
    "    [SNR, FM, wholeFM, SNRw] = pickle.load(f)\n",
    "\n",
    "fisher_matrix_2 = FM\n",
    "\n",
    "print(fisher_matrix_2)"
   ]
  },
  {
   "cell_type": "code",
   "execution_count": 3,
   "id": "a753bca5-a884-463f-8d9b-cf282dc97d3b",
   "metadata": {},
   "outputs": [
    {
     "name": "stdout",
     "output_type": "stream",
     "text": [
      "[[ 2.68050417e+04  2.28168260e+04  1.49245739e+07 -3.36973773e+06\n",
      "   1.07902314e+03 -3.25709384e+03  3.57664959e+03  1.42932382e+07\n",
      "   2.98905610e+03]\n",
      " [ 2.28168260e+04  2.21015596e+04  6.29488810e+06 -2.99130020e+06\n",
      "  -1.76357299e+03 -1.09386853e+03  3.42963502e+03  5.71306784e+06\n",
      "   2.30720500e+03]\n",
      " [ 1.49245739e+07  6.29488810e+06  1.84800186e+11 -1.75780978e+09\n",
      "  -9.08333245e+02 -6.48157363e+06  9.37987116e+06  1.86758926e+11\n",
      "   7.24926607e+06]\n",
      " [-3.36973773e+06 -2.99130020e+06 -1.75780978e+09  4.29634029e+08\n",
      "   9.32766254e+02  3.33659240e+05 -4.83246599e+05 -1.67656377e+09\n",
      "  -3.74526265e+05]\n",
      " [ 1.07902314e+03 -1.76357299e+03 -9.08333245e+02  9.32766254e+02\n",
      "   3.23002269e+03 -1.76618238e+03 -8.33312931e+02 -1.09360904e+03\n",
      "  -1.31690844e-01]\n",
      " [-3.25709384e+03 -1.09386853e+03 -6.48157363e+06  3.33659240e+05\n",
      "  -1.76618238e+03  1.45140806e+03 -2.46516769e+02 -6.43512407e+06\n",
      "  -5.43902050e+02]\n",
      " [ 3.57664959e+03  3.42963502e+03  9.37987116e+06 -4.83246599e+05\n",
      "  -8.33312931e+02 -2.46516769e+02  1.23023102e+03  9.31311851e+06\n",
      "   7.86537764e+02]\n",
      " [ 1.42932382e+07  5.71306784e+06  1.86758926e+11 -1.67656377e+09\n",
      "  -1.09360904e+03 -6.43512407e+06  9.31311851e+06  1.88794145e+11\n",
      "   7.19703366e+06]\n",
      " [ 2.98905610e+03  2.30720500e+03  7.24926607e+06 -3.74526265e+05\n",
      "  -1.31690844e-01 -5.43902050e+02  7.86537764e+02  7.19703366e+06\n",
      "   6.09304418e+02]]\n"
     ]
    }
   ],
   "source": [
    "# 指定.pkl文件的路径\n",
    "file_path = \"./R_ET_3_0.pkl\"\n",
    "\n",
    "# 打开并读取.pkl文件中的数据\n",
    "with open(file_path, 'rb') as f:\n",
    "    [SNR, FM, wholeFM, SNRw] = pickle.load(f)\n",
    "\n",
    "fisher_matrix_3 = FM\n",
    "\n",
    "print(fisher_matrix_3)"
   ]
  },
  {
   "cell_type": "code",
   "execution_count": 4,
   "id": "2fdb1c3f-b297-4b81-b871-aacfe53a83ac",
   "metadata": {},
   "outputs": [],
   "source": [
    "# 动态正则化项函数\n",
    "def get_dynamic_epsilon(matrix):\n",
    "    cond_number = np.linalg.cond(matrix)\n",
    "    eigvals = np.linalg.eigvals(matrix)\n",
    "    eigval_std = np.std(eigvals)\n",
    "    \n",
    "    if cond_number > 1e20 or eigval_std > 1e2:\n",
    "        return 1e-2\n",
    "    elif cond_number > 1e16 or eigval_std > 1e1:\n",
    "        return 1e-3\n",
    "    elif cond_number > 1e12:\n",
    "        return 1e-4\n",
    "    else:\n",
    "        return 1e-6\n",
    "\n",
    "# 确保矩阵正定\n",
    "def ensure_positive_definite(matrix, matrix_name=\"\"):\n",
    "    eigvals, eigvecs = np.linalg.eigh(matrix)\n",
    "    print(f\"{matrix_name} Eigenvalues before clipping: {eigvals}\")\n",
    "    eigvals_clipped = np.clip(eigvals, 1e-2, 1e3)\n",
    "    print(f\"{matrix_name} Eigenvalues after clipping: {eigvals_clipped}\")\n",
    "    matrix_pos_def = eigvecs @ np.diag(eigvals_clipped) @ eigvecs.T\n",
    "    return matrix_pos_def"
   ]
  },
  {
   "cell_type": "code",
   "execution_count": 5,
   "id": "87659a80",
   "metadata": {},
   "outputs": [],
   "source": [
    "# 正则化矩阵\n",
    "def regularize_matrix(matrix, matrix_name=\"\"):\n",
    "    epsilon = get_dynamic_epsilon(matrix)\n",
    "    matrix_sym = (matrix + matrix.T) / 2\n",
    "    return ensure_positive_definite(matrix_sym + epsilon * np.eye(matrix.shape[0]), matrix_name)\n",
    "\n",
    "# 计算协方差矩阵\n",
    "def compute_covariance(fisher_matrix, matrix_name=\"\"):\n",
    "    reg_matrix = regularize_matrix(fisher_matrix, matrix_name)\n",
    "    cov_matrix = np.linalg.pinv(reg_matrix)\n",
    "    return cov_matrix"
   ]
  },
  {
   "cell_type": "code",
   "execution_count": 6,
   "id": "12e42ed1-95fa-4488-9177-938b507849d4",
   "metadata": {},
   "outputs": [
    {
     "name": "stdout",
     "output_type": "stream",
     "text": [
      "matrix_1 Eigenvalues before clipping: [1.00026710e-02 1.17323755e-02 1.68927561e-02 7.01082940e-02\n",
      " 2.31326183e+01 4.92427383e+03 2.45060847e+06 6.88817225e+07\n",
      " 6.12767030e+10]\n",
      "matrix_1 Eigenvalues after clipping: [1.00026710e-02 1.17323755e-02 1.68927561e-02 7.01082940e-02\n",
      " 2.31326183e+01 1.00000000e+03 1.00000000e+03 1.00000000e+03\n",
      " 1.00000000e+03]\n",
      "matrix_2 Eigenvalues before clipping: [1.00070249e-02 1.41597774e-02 2.29933453e-02 4.37179116e-01\n",
      " 9.28155816e+00 6.10887563e+03 2.16106662e+07 6.08723841e+08\n",
      " 5.36967505e+11]\n",
      "matrix_2 Eigenvalues after clipping: [1.00070249e-02 1.41597774e-02 2.29933453e-02 4.37179116e-01\n",
      " 9.28155816e+00 1.00000000e+03 1.00000000e+03 1.00000000e+03\n",
      " 1.00000000e+03]\n",
      "matrix_3 Eigenvalues before clipping: [1.00068377e-02 1.17728423e-02 1.66936707e-02 3.28155219e-01\n",
      " 1.22494689e+01 5.73193742e+03 1.51226715e+07 4.26322020e+08\n",
      " 3.73582570e+11]\n",
      "matrix_3 Eigenvalues after clipping: [1.00068377e-02 1.17728423e-02 1.66936707e-02 3.28155219e-01\n",
      " 1.22494689e+01 1.00000000e+03 1.00000000e+03 1.00000000e+03\n",
      " 1.00000000e+03]\n",
      "Shape of fisher_matrix_1: (9, 9)\n",
      "Shape of cov_matrix_1: (9, 9)\n",
      "Shape of fisher_matrix_2: (9, 9)\n",
      "Shape of cov_matrix_2: (9, 9)\n",
      "Shape of fisher_matrix_3: (9, 9)\n",
      "Shape of cov_matrix_3: (9, 9)\n"
     ]
    }
   ],
   "source": [
    "# 计算协方差矩阵\n",
    "cov_matrix_1 = compute_covariance(fisher_matrix_1, \"matrix_1\")\n",
    "cov_matrix_2 = compute_covariance(fisher_matrix_2, \"matrix_2\")\n",
    "cov_matrix_3 = compute_covariance(fisher_matrix_3, \"matrix_3\")\n",
    "\n",
    "# 打印验证\n",
    "print(\"Shape of fisher_matrix_1:\", fisher_matrix_1.shape)\n",
    "print(\"Shape of cov_matrix_1:\", cov_matrix_1.shape)\n",
    "print(\"Shape of fisher_matrix_2:\", fisher_matrix_2.shape)\n",
    "print(\"Shape of cov_matrix_2:\", cov_matrix_2.shape)\n",
    "print(\"Shape of fisher_matrix_3:\", fisher_matrix_3.shape)\n",
    "print(\"Shape of cov_matrix_3:\", cov_matrix_3.shape)"
   ]
  },
  {
   "cell_type": "code",
   "execution_count": 7,
   "id": "b19f21b1-a143-4999-ae76-c217eec67c66",
   "metadata": {},
   "outputs": [],
   "source": [
    "# 优化均值计算\n",
    "mean1 = np.mean(cov_matrix_1, axis=0)\n",
    "mean2 = np.mean(cov_matrix_2, axis=0)\n",
    "mean3 = np.mean(cov_matrix_3, axis=0)\n",
    "\n",
    "# 动态调节 KL 散度中的 Trace 和均值差项\n",
    "def dynamic_clip(value, threshold=250):\n",
    "    return min(value, threshold)"
   ]
  },
  {
   "cell_type": "code",
   "execution_count": 8,
   "id": "efba9adf",
   "metadata": {},
   "outputs": [],
   "source": [
    "# 计算 KL 散度\n",
    "def kl_divergence(cov1, mean1, cov2, mean2, matrix_name=\"\"):\n",
    "    cov2_regularized = regularize_matrix(cov2, matrix_name)\n",
    "    eigvals_cov2 = np.linalg.eigvals(cov2_regularized)\n",
    "    if np.any(eigvals_cov2 <= 0):\n",
    "        print(f\"{matrix_name} has non-positive eigenvalues, skipping KL computation.\")\n",
    "        return np.nan\n",
    "\n",
    "    try:\n",
    "        inv_cov2 = np.linalg.inv(cov2_regularized)\n",
    "    except np.linalg.LinAlgError:\n",
    "        print(f\"{matrix_name} inversion failed, skipping KL computation.\")\n",
    "        return np.nan\n",
    "\n",
    "    term1 = np.trace(inv_cov2 @ cov1)\n",
    "    term1 = dynamic_clip(term1)\n",
    "    print(f\"{matrix_name} KL term1 (Trace): {term1}\")\n",
    "\n",
    "    sign1, logdet1 = np.linalg.slogdet(cov1)\n",
    "    sign2, logdet2 = np.linalg.slogdet(cov2_regularized)\n",
    "    if sign1 <= 0 or sign2 <= 0:\n",
    "        print(f\"{matrix_name} determinant is non-positive.\")\n",
    "        return np.nan\n",
    "\n",
    "    term2 = logdet2 - logdet1\n",
    "    print(f\"{matrix_name} KL term2 (Log determinant difference): {term2}\")\n",
    "\n",
    "    term3 = (mean2 - mean1).T @ inv_cov2 @ (mean2 - mean1)\n",
    "    term3 = dynamic_clip(term3)\n",
    "    print(f\"{matrix_name} KL term3 (Mean difference): {term3}\")\n",
    "\n",
    "    result = 0.5 * (term1 + term2 + term3 - cov1.shape[0])\n",
    "    print(f\"{matrix_name} KL result: {result}\")\n",
    "\n",
    "    return max(result, 0)"
   ]
  },
  {
   "cell_type": "code",
   "execution_count": 9,
   "id": "4ebf6f62",
   "metadata": {},
   "outputs": [
    {
     "name": "stdout",
     "output_type": "stream",
     "text": [
      "matrix_12 Eigenvalues before clipping: [2.00000000e-03 2.00000000e-03 2.00000000e-03 2.00000000e-03\n",
      " 1.08740531e-01 2.28839197e+00 4.34918442e+01 7.06235791e+01\n",
      " 9.99308002e+01]\n",
      "matrix_12 Eigenvalues after clipping: [1.00000000e-02 1.00000000e-02 1.00000000e-02 1.00000000e-02\n",
      " 1.08740531e-01 2.28839197e+00 4.34918442e+01 7.06235791e+01\n",
      " 9.99308002e+01]\n",
      "matrix_12 KL term1 (Trace): 250\n",
      "matrix_12 KL term2 (Log determinant difference): 7.806167368641392\n",
      "matrix_12 KL term3 (Mean difference): 250\n",
      "matrix_12 KL result: 249.4030836843207\n",
      "matrix_13 Eigenvalues before clipping: [2.00000000e-03 2.00000000e-03 2.00000000e-03 2.00000000e-03\n",
      " 8.26361927e-02 3.04833840e+00 5.99039428e+01 8.49422553e+01\n",
      " 9.99326697e+01]\n",
      "matrix_13 Eigenvalues after clipping: [1.00000000e-02 1.00000000e-02 1.00000000e-02 1.00000000e-02\n",
      " 8.26361927e-02 3.04833840e+00 5.99039428e+01 8.49422553e+01\n",
      " 9.99326697e+01]\n",
      "matrix_13 KL term1 (Trace): 250\n",
      "matrix_13 KL term2 (Log determinant difference): 8.323193021634843\n",
      "matrix_13 KL term3 (Mean difference): 250\n",
      "matrix_13 KL result: 249.66159651081742\n",
      "matrix_23 Eigenvalues before clipping: [2.00000000e-03 2.00000000e-03 2.00000000e-03 2.00000000e-03\n",
      " 8.26361927e-02 3.04833840e+00 5.99039428e+01 8.49422553e+01\n",
      " 9.99326697e+01]\n",
      "matrix_23 Eigenvalues after clipping: [1.00000000e-02 1.00000000e-02 1.00000000e-02 1.00000000e-02\n",
      " 8.26361927e-02 3.04833840e+00 5.99039428e+01 8.49422553e+01\n",
      " 9.99326697e+01]\n",
      "matrix_23 KL term1 (Trace): 250\n",
      "matrix_23 KL term2 (Log determinant difference): 9.737089017465314\n",
      "matrix_23 KL term3 (Mean difference): 250\n",
      "matrix_23 KL result: 250.36854450873267\n",
      "\n",
      "==== KL Divergence ====\n",
      "KL Divergence between matrix 1 and matrix 2: 249.4030836843207\n",
      "KL Divergence between matrix 1 and matrix 3: 249.66159651081742\n",
      "KL Divergence between matrix 2 and matrix 3: 250.36854450873267\n"
     ]
    }
   ],
   "source": [
    "# 打印 KL 散度\n",
    "kl_12 = kl_divergence(cov_matrix_1, mean1, cov_matrix_2, mean2, \"matrix_12\")\n",
    "kl_13 = kl_divergence(cov_matrix_1, mean1, cov_matrix_3, mean3, \"matrix_13\")\n",
    "kl_23 = kl_divergence(cov_matrix_2, mean2, cov_matrix_3, mean3, \"matrix_23\")\n",
    "\n",
    "print(\"\\n==== KL Divergence ====\")\n",
    "print(f\"KL Divergence between matrix 1 and matrix 2: {kl_12}\")\n",
    "print(f\"KL Divergence between matrix 1 and matrix 3: {kl_13}\")\n",
    "print(f\"KL Divergence between matrix 2 and matrix 3: {kl_23}\")"
   ]
  },
  {
   "cell_type": "code",
   "execution_count": 10,
   "id": "2ff9de6f-7ba3-41fd-9ba0-4eccd82ac83d",
   "metadata": {},
   "outputs": [
    {
     "name": "stdout",
     "output_type": "stream",
     "text": [
      "\n",
      "==== Frobenius Distances ====\n",
      "Distance between matrix 1 and matrix 2: 104.9611\n",
      "Distance between matrix 1 and matrix 3: 98.1918\n",
      "Distance between matrix 2 and matrix 3: 125.7367\n"
     ]
    }
   ],
   "source": [
    "def frobenius_distance(matrix1, matrix2):\n",
    "    \"\"\"计算两个矩阵之间的 Frobenius 距离\"\"\"\n",
    "    return np.linalg.norm(matrix1 - matrix2, 'fro')\n",
    "\n",
    "def print_frobenius_results(dist_12, dist_13, dist_23):\n",
    "    \"\"\"格式化输出 Frobenius 距离结果\"\"\"\n",
    "    print(\"\\n==== Frobenius Distances ====\")\n",
    "    print(f\"Distance between matrix 1 and matrix 2: {dist_12:.4f}\")\n",
    "    print(f\"Distance between matrix 1 and matrix 3: {dist_13:.4f}\")\n",
    "    print(f\"Distance between matrix 2 and matrix 3: {dist_23:.4f}\")\n",
    "\n",
    "# 计算并输出 Frobenius 距离\n",
    "dist_12 = frobenius_distance(cov_matrix_1, cov_matrix_2)\n",
    "dist_13 = frobenius_distance(cov_matrix_1, cov_matrix_3)\n",
    "dist_23 = frobenius_distance(cov_matrix_2, cov_matrix_3)\n",
    "\n",
    "print_frobenius_results(dist_12, dist_13, dist_23)"
   ]
  },
  {
   "cell_type": "code",
   "execution_count": null,
   "id": "2eb759d1-02bf-4c19-8af8-de496f99c6a6",
   "metadata": {},
   "outputs": [],
   "source": []
  }
 ],
 "metadata": {
  "kernelspec": {
   "display_name": "Python 3 (ipykernel)",
   "language": "python",
   "name": "python3"
  },
  "language_info": {
   "codemirror_mode": {
    "name": "ipython",
    "version": 3
   },
   "file_extension": ".py",
   "mimetype": "text/x-python",
   "name": "python",
   "nbconvert_exporter": "python",
   "pygments_lexer": "ipython3",
   "version": "3.8.0"
  }
 },
 "nbformat": 4,
 "nbformat_minor": 5
}
