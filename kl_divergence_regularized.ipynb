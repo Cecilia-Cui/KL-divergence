{
 "cells": [
  {
   "cell_type": "code",
   "execution_count": 1,
   "id": "538c45a4-0596-4e7d-9563-f602816e7ce3",
   "metadata": {},
   "outputs": [
    {
     "name": "stdout",
     "output_type": "stream",
     "text": [
      "[[ 6.25162357e+02  5.50588656e+03  4.95517563e+05  1.59372497e+03\n",
      "  -6.30320337e+02 -6.58566336e+05 -3.91101952e+02]\n",
      " [ 5.50588656e+03  1.25797291e+05  1.14203147e+07  2.04696721e+02\n",
      "   1.39120379e+03 -3.99264456e+07 -8.73721741e+03]\n",
      " [ 4.95517563e+05  1.14203147e+07  1.03698696e+09  6.39836649e+02\n",
      "   1.34072920e+05 -3.58463400e+09 -7.92854858e+05]\n",
      " [ 1.59372497e+03  2.04696721e+02  6.39836649e+02  6.62828596e+03\n",
      "  -2.84814829e+03 -7.40254013e+03 -2.88889625e+02]\n",
      " [-6.30320337e+02  1.39120379e+03  1.34072920e+05 -2.84814829e+03\n",
      "   1.25901745e+03 -2.47882681e+06 -8.34020492e+01]\n",
      " [-6.58566336e+05 -3.99264456e+07 -3.58463400e+09 -7.40254013e+03\n",
      "  -2.47882681e+06  3.76758877e+11  1.47345779e+07]\n",
      " [-3.91101952e+02 -8.73721741e+03 -7.92854858e+05 -2.88889625e+02\n",
      "  -8.34020492e+01  1.47345779e+07  1.23944815e+03]]\n"
     ]
    }
   ],
   "source": [
    "import numpy as np\n",
    "import pickle\n",
    "\n",
    "# 指定.pkl文件的路径\n",
    "file_path = \"./R_ET_1_0.pkl\"\n",
    "\n",
    "# 打开并读取.pkl文件中的数据\n",
    "with open(file_path, 'rb') as f:\n",
    "    [SNR, FM, wholeFM, SNRw] = pickle.load(f)\n",
    "\n",
    "# 提取 9x9 的 Fisher 矩阵，并仅保留前 7 个参数的子矩阵\n",
    "def extract_relevant_submatrix(matrix, size=7):\n",
    "    \"\"\"提取前 size 个参数的子矩阵\"\"\"\n",
    "    return matrix[:size, :size]\n",
    "\n",
    "fisher_matrix_1 = extract_relevant_submatrix(FM)\n",
    "\n",
    "print(fisher_matrix_1)"
   ]
  },
  {
   "cell_type": "code",
   "execution_count": 2,
   "id": "16d891e2-7466-427c-b311-f53894828e3c",
   "metadata": {},
   "outputs": [
    {
     "name": "stdout",
     "output_type": "stream",
     "text": [
      "[[ 7.04889104e+02  3.83210915e+03  4.16671716e+05 -1.70010064e+03\n",
      "  -9.10510532e+02 -3.89619537e+05  4.39438430e+02]\n",
      " [ 3.83210915e+03  1.09653058e+05  9.84620778e+06  2.56776730e+03\n",
      "   2.91769957e+03 -3.47029700e+07  9.82933138e+03]\n",
      " [ 4.16671716e+05  9.84620778e+06  8.93588681e+08  5.83301204e+02\n",
      "   1.33330583e+05 -3.10804759e+09  9.04640633e+05]\n",
      " [-1.70010064e+03  2.56776730e+03  5.83301204e+02  5.73130357e+03\n",
      "   3.24137321e+03 -6.70079438e+03 -3.10432162e+02]\n",
      " [-9.10510532e+02  2.91769957e+03  1.33330583e+05  3.24137321e+03\n",
      "   1.87305443e+03 -2.46106977e+06  9.48538336e+01]\n",
      " [-3.89619537e+05 -3.47029700e+07 -3.10804759e+09 -6.70079438e+03\n",
      "  -2.46106977e+06  3.29279258e+11 -1.66555844e+07]\n",
      " [ 4.39438430e+02  9.82933138e+03  9.04640633e+05 -3.10432162e+02\n",
      "   9.48538336e+01 -1.66555844e+07  1.85450516e+03]]\n"
     ]
    }
   ],
   "source": [
    "# 指定.pkl文件的路径\n",
    "file_path = \"./R_ET_2_0.pkl\"\n",
    "\n",
    "# 打开并读取.pkl文件中的数据\n",
    "with open(file_path, 'rb') as f:\n",
    "    [SNR, FM, wholeFM, SNRw] = pickle.load(f)\n",
    "\n",
    "# 提取 9x9 的 Fisher 矩阵，并仅保留前 7 个参数的子矩阵\n",
    "def extract_relevant_submatrix(matrix, size=7):\n",
    "    \"\"\"提取前 size 个参数的子矩阵\"\"\"\n",
    "    return matrix[:size, :size]\n",
    "\n",
    "fisher_matrix_2 = extract_relevant_submatrix(FM)\n",
    "\n",
    "print(fisher_matrix_2)"
   ]
  },
  {
   "cell_type": "code",
   "execution_count": 3,
   "id": "a753bca5-a884-463f-8d9b-cf282dc97d3b",
   "metadata": {},
   "outputs": [
    {
     "name": "stdout",
     "output_type": "stream",
     "text": [
      "[[ 1.71097482e+03 -2.01574273e+03 -6.53431125e+04  2.41872229e+02\n",
      "  -3.23282821e+03  1.29717641e+06 -6.89603632e+01]\n",
      " [-2.01574273e+03  3.53993636e+03  1.77150424e+05 -1.71567840e+02\n",
      "   3.91288660e+03 -1.44958229e+06 -1.49652191e+03]\n",
      " [-6.53431125e+04  1.77150424e+05  1.11239413e+07  3.65512731e+00\n",
      "   1.32416748e+05 -3.70691826e+07 -1.26772612e+05]\n",
      " [ 2.41872229e+02 -1.71567840e+02  3.65512731e+00  6.96489314e+01\n",
      "  -4.46673580e+02 -5.18076640e+01 -4.74031233e+02]\n",
      " [-3.23282821e+03  3.91288660e+03  1.32416748e+05 -4.46673580e+02\n",
      "   6.11764085e+03 -2.44623778e+06 -1.31962575e+01]\n",
      " [ 1.29717641e+06 -1.44958229e+06 -3.70691826e+07 -5.18076640e+01\n",
      "  -2.44623778e+06  3.71338138e+09  2.19779602e+06]\n",
      " [-6.89603632e+01 -1.49652191e+03 -1.26772612e+05 -4.74031233e+02\n",
      "  -1.31962575e+01  2.19779602e+06  6.10459399e+03]]\n"
     ]
    }
   ],
   "source": [
    "# 指定.pkl文件的路径\n",
    "file_path = \"./R_ET_3_0.pkl\"\n",
    "\n",
    "# 打开并读取.pkl文件中的数据\n",
    "with open(file_path, 'rb') as f:\n",
    "    [SNR, FM, wholeFM, SNRw] = pickle.load(f)\n",
    "\n",
    "# 提取 9x9 的 Fisher 矩阵，并仅保留前 7 个参数的子矩阵\n",
    "def extract_relevant_submatrix(matrix, size=7):\n",
    "    \"\"\"提取前 size 个参数的子矩阵\"\"\"\n",
    "    return matrix[:size, :size]\n",
    "\n",
    "fisher_matrix_3 = extract_relevant_submatrix(FM)\n",
    "\n",
    "print(fisher_matrix_3)"
   ]
  },
  {
   "cell_type": "code",
   "execution_count": 4,
   "id": "2fdb1c3f-b297-4b81-b871-aacfe53a83ac",
   "metadata": {},
   "outputs": [],
   "source": [
    "# 动态正则化项函数\n",
    "def get_dynamic_epsilon(matrix):\n",
    "    cond_number = np.linalg.cond(matrix)\n",
    "    eigvals = np.linalg.eigvals(matrix)\n",
    "    eigval_std = np.std(eigvals)\n",
    "    \n",
    "    if cond_number > 1e20 or eigval_std > 1e2:\n",
    "        return 1e-2\n",
    "    elif cond_number > 1e16 or eigval_std > 1e1:\n",
    "        return 1e-3\n",
    "    elif cond_number > 1e12:\n",
    "        return 1e-4\n",
    "    else:\n",
    "        return 1e-6\n",
    "\n",
    "# 确保矩阵正定\n",
    "def ensure_positive_definite(matrix, matrix_name=\"\"):\n",
    "    eigvals, eigvecs = np.linalg.eigh(matrix)\n",
    "    print(f\"{matrix_name} Eigenvalues before clipping: {eigvals}\")\n",
    "    eigvals_clipped = np.clip(eigvals, 1e-2, 1e3)\n",
    "    print(f\"{matrix_name} Eigenvalues after clipping: {eigvals_clipped}\")\n",
    "    matrix_pos_def = eigvecs @ np.diag(eigvals_clipped) @ eigvecs.T\n",
    "    return matrix_pos_def"
   ]
  },
  {
   "cell_type": "code",
   "execution_count": 5,
   "id": "87659a80",
   "metadata": {},
   "outputs": [],
   "source": [
    "# 正则化矩阵\n",
    "def regularize_matrix(matrix, matrix_name=\"\"):\n",
    "    epsilon = get_dynamic_epsilon(matrix)\n",
    "    matrix_sym = (matrix + matrix.T) / 2\n",
    "    return ensure_positive_definite(matrix_sym + epsilon * np.eye(matrix.shape[0]), matrix_name)\n",
    "\n",
    "# 计算协方差矩阵\n",
    "def compute_covariance(fisher_matrix, matrix_name=\"\"):\n",
    "    reg_matrix = regularize_matrix(fisher_matrix, matrix_name)\n",
    "    cov_matrix = np.linalg.pinv(reg_matrix)\n",
    "    return cov_matrix"
   ]
  },
  {
   "cell_type": "code",
   "execution_count": 6,
   "id": "12e42ed1-95fa-4488-9177-938b507849d4",
   "metadata": {},
   "outputs": [
    {
     "name": "stdout",
     "output_type": "stream",
     "text": [
      "matrix_1 Eigenvalues before clipping: [1.07610307e-02 8.51767688e-02 1.76637563e+01 2.35618691e+02\n",
      " 8.25433345e+03 1.00291250e+09 3.76793079e+11]\n",
      "matrix_1 Eigenvalues after clipping: [1.07610307e-02 8.51767688e-02 1.76637563e+01 2.35618691e+02\n",
      " 1.00000000e+03 1.00000000e+03 1.00000000e+03]\n",
      "matrix_2 Eigenvalues before clipping: [1.06193060e-02 9.04608839e-02 1.24276060e+01 3.59685391e+02\n",
      " 9.23209770e+03 8.64280481e+08 3.29308677e+11]\n",
      "matrix_2 Eigenvalues after clipping: [1.06193060e-02 9.04608839e-02 1.24276060e+01 3.59685391e+02\n",
      " 1.00000000e+03 1.00000000e+03 1.00000000e+03]\n",
      "matrix_3 Eigenvalues before clipping: [1.00112317e-02 3.01652729e-02 4.88068720e-01 1.32077182e+03\n",
      " 7.46689331e+03 1.07576391e+07 3.71375644e+09]\n",
      "matrix_3 Eigenvalues after clipping: [1.00112317e-02 3.01652729e-02 4.88068720e-01 1.00000000e+03\n",
      " 1.00000000e+03 1.00000000e+03 1.00000000e+03]\n",
      "Shape of fisher_matrix_1: (7, 7)\n",
      "Shape of cov_matrix_1: (7, 7)\n",
      "Shape of fisher_matrix_2: (7, 7)\n",
      "Shape of cov_matrix_2: (7, 7)\n",
      "Shape of fisher_matrix_3: (7, 7)\n",
      "Shape of cov_matrix_3: (7, 7)\n"
     ]
    }
   ],
   "source": [
    "# 计算协方差矩阵\n",
    "cov_matrix_1 = compute_covariance(fisher_matrix_1, \"matrix_1\")\n",
    "cov_matrix_2 = compute_covariance(fisher_matrix_2, \"matrix_2\")\n",
    "cov_matrix_3 = compute_covariance(fisher_matrix_3, \"matrix_3\")\n",
    "\n",
    "# 打印验证\n",
    "print(\"Shape of fisher_matrix_1:\", fisher_matrix_1.shape)\n",
    "print(\"Shape of cov_matrix_1:\", cov_matrix_1.shape)\n",
    "print(\"Shape of fisher_matrix_2:\", fisher_matrix_2.shape)\n",
    "print(\"Shape of cov_matrix_2:\", cov_matrix_2.shape)\n",
    "print(\"Shape of fisher_matrix_3:\", fisher_matrix_3.shape)\n",
    "print(\"Shape of cov_matrix_3:\", cov_matrix_3.shape)"
   ]
  },
  {
   "cell_type": "code",
   "execution_count": 7,
   "id": "b19f21b1-a143-4999-ae76-c217eec67c66",
   "metadata": {},
   "outputs": [],
   "source": [
    "# 优化均值计算\n",
    "mean1 = np.mean(cov_matrix_1, axis=0)\n",
    "mean2 = np.mean(cov_matrix_2, axis=0)\n",
    "mean3 = np.mean(cov_matrix_3, axis=0)\n",
    "\n",
    "# 动态调节 KL 散度中的 Trace 和均值差项\n",
    "def dynamic_clip(value, threshold=250):\n",
    "    return min(value, threshold)"
   ]
  },
  {
   "cell_type": "code",
   "execution_count": 8,
   "id": "efba9adf",
   "metadata": {},
   "outputs": [],
   "source": [
    "# 计算 KL 散度\n",
    "def kl_divergence(cov1, mean1, cov2, mean2, matrix_name=\"\"):\n",
    "    cov2_regularized = regularize_matrix(cov2, matrix_name)\n",
    "    eigvals_cov2 = np.linalg.eigvals(cov2_regularized)\n",
    "    if np.any(eigvals_cov2 <= 0):\n",
    "        print(f\"{matrix_name} has non-positive eigenvalues, skipping KL computation.\")\n",
    "        return np.nan\n",
    "\n",
    "    try:\n",
    "        inv_cov2 = np.linalg.inv(cov2_regularized)\n",
    "    except np.linalg.LinAlgError:\n",
    "        print(f\"{matrix_name} inversion failed, skipping KL computation.\")\n",
    "        return np.nan\n",
    "\n",
    "    term1 = np.trace(inv_cov2 @ cov1)\n",
    "    term1 = dynamic_clip(term1)\n",
    "    print(f\"{matrix_name} KL term1 (Trace): {term1}\")\n",
    "\n",
    "    sign1, logdet1 = np.linalg.slogdet(cov1)\n",
    "    sign2, logdet2 = np.linalg.slogdet(cov2_regularized)\n",
    "    if sign1 <= 0 or sign2 <= 0:\n",
    "        print(f\"{matrix_name} determinant is non-positive.\")\n",
    "        return np.nan\n",
    "\n",
    "    term2 = logdet2 - logdet1\n",
    "    print(f\"{matrix_name} KL term2 (Log determinant difference): {term2}\")\n",
    "\n",
    "    term3 = (mean2 - mean1).T @ inv_cov2 @ (mean2 - mean1)\n",
    "    term3 = dynamic_clip(term3)\n",
    "    print(f\"{matrix_name} KL term3 (Mean difference): {term3}\")\n",
    "\n",
    "    result = 0.5 * (term1 + term2 + term3 - cov1.shape[0])\n",
    "    print(f\"{matrix_name} KL result: {result}\")\n",
    "\n",
    "    return max(result, 0)"
   ]
  },
  {
   "cell_type": "code",
   "execution_count": 9,
   "id": "4ebf6f62",
   "metadata": {},
   "outputs": [
    {
     "name": "stdout",
     "output_type": "stream",
     "text": [
      "matrix_12 Eigenvalues before clipping: [2.00000000e-03 2.00000000e-03 2.00000000e-03 3.78020744e-03\n",
      " 8.14660206e-02 1.10555018e+01 9.41691120e+01]\n",
      "matrix_12 Eigenvalues after clipping: [1.00000000e-02 1.00000000e-02 1.00000000e-02 1.00000000e-02\n",
      " 8.14660206e-02 1.10555018e+01 9.41691120e+01]\n",
      "matrix_12 KL term1 (Trace): 250\n",
      "matrix_12 KL term2 (Log determinant difference): 8.081915420466089\n",
      "matrix_12 KL term3 (Mean difference): 250\n",
      "matrix_12 KL result: 250.54095771023304\n",
      "matrix_13 Eigenvalues before clipping: [2.00000000e-03 2.00000000e-03 2.00000000e-03 2.00000000e-03\n",
      " 2.04989180e+00 3.31517029e+01 9.98888092e+01]\n",
      "matrix_13 Eigenvalues after clipping: [1.00000000e-02 1.00000000e-02 1.00000000e-02 1.00000000e-02\n",
      " 2.04989180e+00 3.31517029e+01 9.98888092e+01]\n",
      "matrix_13 KL term1 (Trace): 250\n",
      "matrix_13 KL term2 (Log determinant difference): 12.464403015957993\n",
      "matrix_13 KL term3 (Mean difference): 250\n",
      "matrix_13 KL result: 252.73220150797897\n",
      "matrix_23 Eigenvalues before clipping: [2.00000000e-03 2.00000000e-03 2.00000000e-03 2.00000000e-03\n",
      " 2.04989180e+00 3.31517029e+01 9.98888092e+01]\n",
      "matrix_23 Eigenvalues after clipping: [1.00000000e-02 1.00000000e-02 1.00000000e-02 1.00000000e-02\n",
      " 2.04989180e+00 3.31517029e+01 9.98888092e+01]\n",
      "matrix_23 KL term1 (Trace): 250\n",
      "matrix_23 KL term2 (Log determinant difference): 12.582754517705672\n",
      "matrix_23 KL term3 (Mean difference): 32.01983178423322\n",
      "matrix_23 KL result: 143.80129315096946\n",
      "\n",
      "==== KL Divergence ====\n",
      "KL Divergence between matrix 1 and matrix 2: 250.54095771023304\n",
      "KL Divergence between matrix 1 and matrix 3: 252.73220150797897\n",
      "KL Divergence between matrix 2 and matrix 3: 143.80129315096946\n"
     ]
    }
   ],
   "source": [
    "# 打印 KL 散度\n",
    "kl_12 = kl_divergence(cov_matrix_1, mean1, cov_matrix_2, mean2, \"matrix_12\")\n",
    "kl_13 = kl_divergence(cov_matrix_1, mean1, cov_matrix_3, mean3, \"matrix_13\")\n",
    "kl_23 = kl_divergence(cov_matrix_2, mean2, cov_matrix_3, mean3, \"matrix_23\")\n",
    "\n",
    "print(\"\\n==== KL Divergence ====\")\n",
    "print(f\"KL Divergence between matrix 1 and matrix 2: {kl_12}\")\n",
    "print(f\"KL Divergence between matrix 1 and matrix 3: {kl_13}\")\n",
    "print(f\"KL Divergence between matrix 2 and matrix 3: {kl_23}\")"
   ]
  },
  {
   "cell_type": "code",
   "execution_count": 10,
   "id": "2ff9de6f-7ba3-41fd-9ba0-4eccd82ac83d",
   "metadata": {},
   "outputs": [
    {
     "name": "stdout",
     "output_type": "stream",
     "text": [
      "\n",
      "==== Frobenius Distances ====\n",
      "Distance between matrix 1 and matrix 2: 16.9284\n",
      "Distance between matrix 1 and matrix 3: 33.6046\n",
      "Distance between matrix 2 and matrix 3: 34.5537\n"
     ]
    }
   ],
   "source": [
    "def frobenius_distance(matrix1, matrix2):\n",
    "    \"\"\"计算两个矩阵之间的 Frobenius 距离\"\"\"\n",
    "    return np.linalg.norm(matrix1 - matrix2, 'fro')\n",
    "\n",
    "def print_frobenius_results(dist_12, dist_13, dist_23):\n",
    "    \"\"\"格式化输出 Frobenius 距离结果\"\"\"\n",
    "    print(\"\\n==== Frobenius Distances ====\")\n",
    "    print(f\"Distance between matrix 1 and matrix 2: {dist_12:.4f}\")\n",
    "    print(f\"Distance between matrix 1 and matrix 3: {dist_13:.4f}\")\n",
    "    print(f\"Distance between matrix 2 and matrix 3: {dist_23:.4f}\")\n",
    "\n",
    "# 计算并输出 Frobenius 距离\n",
    "dist_12 = frobenius_distance(cov_matrix_1, cov_matrix_2)\n",
    "dist_13 = frobenius_distance(cov_matrix_1, cov_matrix_3)\n",
    "dist_23 = frobenius_distance(cov_matrix_2, cov_matrix_3)\n",
    "\n",
    "print_frobenius_results(dist_12, dist_13, dist_23)"
   ]
  },
  {
   "cell_type": "code",
   "execution_count": null,
   "id": "2eb759d1-02bf-4c19-8af8-de496f99c6a6",
   "metadata": {},
   "outputs": [],
   "source": []
  }
 ],
 "metadata": {
  "kernelspec": {
   "display_name": "Python 3 (ipykernel)",
   "language": "python",
   "name": "python3"
  },
  "language_info": {
   "codemirror_mode": {
    "name": "ipython",
    "version": 3
   },
   "file_extension": ".py",
   "mimetype": "text/x-python",
   "name": "python",
   "nbconvert_exporter": "python",
   "pygments_lexer": "ipython3",
   "version": "3.8.0"
  }
 },
 "nbformat": 4,
 "nbformat_minor": 5
}
