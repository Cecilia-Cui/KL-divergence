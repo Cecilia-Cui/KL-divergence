{
 "cells": [
  {
   "cell_type": "code",
   "execution_count": 1,
   "id": "fe44dd6f-263a-4d73-8f59-9c28fb5b3cd0",
   "metadata": {},
   "outputs": [
    {
     "name": "stdout",
     "output_type": "stream",
     "text": [
      "[[ 6.25162357e+02  5.50588656e+03  4.95517563e+05  1.59372497e+03\n",
      "  -6.30320337e+02 -6.58566336e+05 -3.91101952e+02]\n",
      " [ 5.50588656e+03  1.25797291e+05  1.14203147e+07  2.04696721e+02\n",
      "   1.39120379e+03 -3.99264456e+07 -8.73721741e+03]\n",
      " [ 4.95517563e+05  1.14203147e+07  1.03698696e+09  6.39836649e+02\n",
      "   1.34072920e+05 -3.58463400e+09 -7.92854858e+05]\n",
      " [ 1.59372497e+03  2.04696721e+02  6.39836649e+02  6.62828596e+03\n",
      "  -2.84814829e+03 -7.40254013e+03 -2.88889625e+02]\n",
      " [-6.30320337e+02  1.39120379e+03  1.34072920e+05 -2.84814829e+03\n",
      "   1.25901745e+03 -2.47882681e+06 -8.34020492e+01]\n",
      " [-6.58566336e+05 -3.99264456e+07 -3.58463400e+09 -7.40254013e+03\n",
      "  -2.47882681e+06  3.76758877e+11  1.47345779e+07]\n",
      " [-3.91101952e+02 -8.73721741e+03 -7.92854858e+05 -2.88889625e+02\n",
      "  -8.34020492e+01  1.47345779e+07  1.23944815e+03]]\n"
     ]
    }
   ],
   "source": [
    "import numpy as np\n",
    "import pandas as pd\n",
    "import matplotlib.pyplot as plt\n",
    "import pickle\n",
    "\n",
    "# 指定.pkl文件的路径\n",
    "file_path = \"./R_ET_1_0.pkl\"\n",
    "\n",
    "# 打开并读取.pkl文件中的数据\n",
    "with open(file_path, 'rb') as f:\n",
    "    [SNR, FM, wholeFM, SNRw] = pickle.load(f)\n",
    "\n",
    "# 提取 9x9 的 Fisher 矩阵，并仅保留前 7 个参数的子矩阵\n",
    "def extract_relevant_submatrix(matrix, size=7):\n",
    "    \"\"\"提取前 size 个参数的子矩阵\"\"\"\n",
    "    return matrix[:size, :size]\n",
    "\n",
    "fisher_matrix_1 = extract_relevant_submatrix(FM)\n",
    "\n",
    "print(fisher_matrix_1)"
   ]
  },
  {
   "cell_type": "code",
   "execution_count": 2,
   "id": "ac17e1bc-3c4b-4d6a-8b69-b7054ddad8d6",
   "metadata": {},
   "outputs": [
    {
     "name": "stdout",
     "output_type": "stream",
     "text": [
      "[[ 7.04889104e+02  3.83210915e+03  4.16671716e+05 -1.70010064e+03\n",
      "  -9.10510532e+02 -3.89619537e+05  4.39438430e+02]\n",
      " [ 3.83210915e+03  1.09653058e+05  9.84620778e+06  2.56776730e+03\n",
      "   2.91769957e+03 -3.47029700e+07  9.82933138e+03]\n",
      " [ 4.16671716e+05  9.84620778e+06  8.93588681e+08  5.83301204e+02\n",
      "   1.33330583e+05 -3.10804759e+09  9.04640633e+05]\n",
      " [-1.70010064e+03  2.56776730e+03  5.83301204e+02  5.73130357e+03\n",
      "   3.24137321e+03 -6.70079438e+03 -3.10432162e+02]\n",
      " [-9.10510532e+02  2.91769957e+03  1.33330583e+05  3.24137321e+03\n",
      "   1.87305443e+03 -2.46106977e+06  9.48538336e+01]\n",
      " [-3.89619537e+05 -3.47029700e+07 -3.10804759e+09 -6.70079438e+03\n",
      "  -2.46106977e+06  3.29279258e+11 -1.66555844e+07]\n",
      " [ 4.39438430e+02  9.82933138e+03  9.04640633e+05 -3.10432162e+02\n",
      "   9.48538336e+01 -1.66555844e+07  1.85450516e+03]]\n"
     ]
    }
   ],
   "source": [
    "# 指定.pkl文件的路径\n",
    "file_path = \"./R_ET_2_0.pkl\"\n",
    "\n",
    "# 打开并读取.pkl文件中的数据\n",
    "with open(file_path, 'rb') as f:\n",
    "    [SNR, FM, wholeFM, SNRw] = pickle.load(f)\n",
    "\n",
    "# 提取 9x9 的 Fisher 矩阵，并仅保留前 7 个参数的子矩阵\n",
    "def extract_relevant_submatrix(matrix, size=7):\n",
    "    \"\"\"提取前 size 个参数的子矩阵\"\"\"\n",
    "    return matrix[:size, :size]\n",
    "\n",
    "fisher_matrix_2 = extract_relevant_submatrix(FM)\n",
    "\n",
    "print(fisher_matrix_2)"
   ]
  },
  {
   "cell_type": "code",
   "execution_count": 3,
   "id": "b1722af8-e023-4f97-832a-3619f47d5cce",
   "metadata": {},
   "outputs": [
    {
     "name": "stdout",
     "output_type": "stream",
     "text": [
      "[[ 1.71097482e+03 -2.01574273e+03 -6.53431125e+04  2.41872229e+02\n",
      "  -3.23282821e+03  1.29717641e+06 -6.89603632e+01]\n",
      " [-2.01574273e+03  3.53993636e+03  1.77150424e+05 -1.71567840e+02\n",
      "   3.91288660e+03 -1.44958229e+06 -1.49652191e+03]\n",
      " [-6.53431125e+04  1.77150424e+05  1.11239413e+07  3.65512731e+00\n",
      "   1.32416748e+05 -3.70691826e+07 -1.26772612e+05]\n",
      " [ 2.41872229e+02 -1.71567840e+02  3.65512731e+00  6.96489314e+01\n",
      "  -4.46673580e+02 -5.18076640e+01 -4.74031233e+02]\n",
      " [-3.23282821e+03  3.91288660e+03  1.32416748e+05 -4.46673580e+02\n",
      "   6.11764085e+03 -2.44623778e+06 -1.31962575e+01]\n",
      " [ 1.29717641e+06 -1.44958229e+06 -3.70691826e+07 -5.18076640e+01\n",
      "  -2.44623778e+06  3.71338138e+09  2.19779602e+06]\n",
      " [-6.89603632e+01 -1.49652191e+03 -1.26772612e+05 -4.74031233e+02\n",
      "  -1.31962575e+01  2.19779602e+06  6.10459399e+03]]\n"
     ]
    }
   ],
   "source": [
    "# 指定.pkl文件的路径\n",
    "file_path = \"./R_ET_3_0.pkl\"\n",
    "\n",
    "# 打开并读取.pkl文件中的数据\n",
    "with open(file_path, 'rb') as f:\n",
    "    [SNR, FM, wholeFM, SNRw] = pickle.load(f)\n",
    "\n",
    "# 提取 9x9 的 Fisher 矩阵，并仅保留前 7 个参数的子矩阵\n",
    "def extract_relevant_submatrix(matrix, size=7):\n",
    "    \"\"\"提取前 size 个参数的子矩阵\"\"\"\n",
    "    return matrix[:size, :size]\n",
    "\n",
    "fisher_matrix_3 = extract_relevant_submatrix(FM)\n",
    "\n",
    "print(fisher_matrix_3)"
   ]
  },
  {
   "cell_type": "code",
   "execution_count": 4,
   "id": "d548c3cc-35b4-4244-970c-9fb19a7b6a90",
   "metadata": {},
   "outputs": [],
   "source": [
    "#参数名列表（去掉 Injection Number 和 Initial Phase）\n",
    "PARAM_NAMES = [\n",
    "    \"Ra\", \"Dec\", \"Mass1\", \"Mass2\", \n",
    "    \"Inclination\", \"Polarization\", \n",
    "    \"Luminosity Distance\"\n",
    "]"
   ]
  },
  {
   "cell_type": "code",
   "execution_count": 5,
   "id": "2b9ab292-7ef0-48c1-9013-ed8db7cd163d",
   "metadata": {},
   "outputs": [
    {
     "name": "stdout",
     "output_type": "stream",
     "text": [
      "\n",
      "处理 Fisher 矩阵 1...\n",
      "\n",
      "处理 Fisher 矩阵 2...\n",
      "\n",
      "处理 Fisher 矩阵 3...\n",
      "\n",
      "不确定度结果:\n",
      "ET_1: [3.17198335e+01 1.57224386e+00 2.66591888e-03 1.80139685e+00\n",
      " 1.96687651e+01 5.17346967e-06 6.99819365e-01]\n",
      "ET_2: [3.28219790e+01 1.62319988e+00 2.98124067e-03 2.52801861e+00\n",
      " 2.14622871e+01 5.59425982e-06 6.44602239e-01]\n",
      "ET_3: [2.58447931e+02 1.28892743e+01 2.17005330e-02 1.47646766e+01\n",
      " 1.43821769e+02 5.20315949e-05 1.08363343e+00]\n"
     ]
    }
   ],
   "source": [
    "# 初始化存储不确定度结果的字典\n",
    "uncertainty_results = {}  # 确保字典已定义\n",
    "\n",
    "# 遍历每个 Fisher 矩阵并计算不确定度\n",
    "for i, fisher_matrix in enumerate([fisher_matrix_1, fisher_matrix_2, fisher_matrix_3], start=1):\n",
    "    print(f\"\\n处理 Fisher 矩阵 {i}...\")\n",
    "\n",
    "    # 计算协方差矩阵（Fisher 矩阵的逆）\n",
    "    cov_matrix = np.linalg.inv(fisher_matrix)  # 使用逆矩阵计算协方差\n",
    "\n",
    "    # 检查是否成功求逆\n",
    "    if np.linalg.cond(fisher_matrix) < 1 / np.finfo(fisher_matrix.dtype).eps:\n",
    "        # 计算不确定度\n",
    "        uncertainties = np.sqrt(np.diag(cov_matrix))  # 提取对角线元素并计算不确定度\n",
    "\n",
    "        # 将结果存入字典\n",
    "        detector_name = f\"ET_{i}\"\n",
    "        uncertainty_results[detector_name] = uncertainties\n",
    "    else:\n",
    "        print(f\"Fisher 矩阵 {i} 是奇异矩阵，无法求逆。\")\n",
    "\n",
    "# 查看不确定度结果\n",
    "print(\"\\n不确定度结果:\")\n",
    "for detector, uncertainties in uncertainty_results.items():\n",
    "    print(f\"{detector}: {uncertainties}\")\n"
   ]
  },
  {
   "cell_type": "code",
   "execution_count": 6,
   "id": "2a802de7-6b65-4891-965a-dc723dd079b3",
   "metadata": {},
   "outputs": [
    {
     "name": "stdout",
     "output_type": "stream",
     "text": [
      "\n",
      "不确定度结果 DataFrame:\n"
     ]
    },
    {
     "data": {
      "text/html": [
       "<div>\n",
       "<style scoped>\n",
       "    .dataframe tbody tr th:only-of-type {\n",
       "        vertical-align: middle;\n",
       "    }\n",
       "\n",
       "    .dataframe tbody tr th {\n",
       "        vertical-align: top;\n",
       "    }\n",
       "\n",
       "    .dataframe thead th {\n",
       "        text-align: right;\n",
       "    }\n",
       "</style>\n",
       "<table border=\"1\" class=\"dataframe\">\n",
       "  <thead>\n",
       "    <tr style=\"text-align: right;\">\n",
       "      <th></th>\n",
       "      <th>ET_1</th>\n",
       "      <th>ET_2</th>\n",
       "      <th>ET_3</th>\n",
       "    </tr>\n",
       "    <tr>\n",
       "      <th>Parameter</th>\n",
       "      <th></th>\n",
       "      <th></th>\n",
       "      <th></th>\n",
       "    </tr>\n",
       "  </thead>\n",
       "  <tbody>\n",
       "    <tr>\n",
       "      <th>Ra</th>\n",
       "      <td>31.719834</td>\n",
       "      <td>32.821979</td>\n",
       "      <td>258.447931</td>\n",
       "    </tr>\n",
       "    <tr>\n",
       "      <th>Dec</th>\n",
       "      <td>1.572244</td>\n",
       "      <td>1.623200</td>\n",
       "      <td>12.889274</td>\n",
       "    </tr>\n",
       "    <tr>\n",
       "      <th>Mass1</th>\n",
       "      <td>0.002666</td>\n",
       "      <td>0.002981</td>\n",
       "      <td>0.021701</td>\n",
       "    </tr>\n",
       "    <tr>\n",
       "      <th>Mass2</th>\n",
       "      <td>1.801397</td>\n",
       "      <td>2.528019</td>\n",
       "      <td>14.764677</td>\n",
       "    </tr>\n",
       "    <tr>\n",
       "      <th>Inclination</th>\n",
       "      <td>19.668765</td>\n",
       "      <td>21.462287</td>\n",
       "      <td>143.821769</td>\n",
       "    </tr>\n",
       "    <tr>\n",
       "      <th>Polarization</th>\n",
       "      <td>0.000005</td>\n",
       "      <td>0.000006</td>\n",
       "      <td>0.000052</td>\n",
       "    </tr>\n",
       "    <tr>\n",
       "      <th>Luminosity Distance</th>\n",
       "      <td>0.699819</td>\n",
       "      <td>0.644602</td>\n",
       "      <td>1.083633</td>\n",
       "    </tr>\n",
       "  </tbody>\n",
       "</table>\n",
       "</div>"
      ],
      "text/plain": [
       "                          ET_1       ET_2        ET_3\n",
       "Parameter                                            \n",
       "Ra                   31.719834  32.821979  258.447931\n",
       "Dec                   1.572244   1.623200   12.889274\n",
       "Mass1                 0.002666   0.002981    0.021701\n",
       "Mass2                 1.801397   2.528019   14.764677\n",
       "Inclination          19.668765  21.462287  143.821769\n",
       "Polarization          0.000005   0.000006    0.000052\n",
       "Luminosity Distance   0.699819   0.644602    1.083633"
      ]
     },
     "metadata": {},
     "output_type": "display_data"
    }
   ],
   "source": [
    "# 定义参数名\n",
    "PARAM_NAMES = [\n",
    "    \"Ra\", \"Dec\", \"Mass1\", \"Mass2\", \n",
    "    \"Inclination\", \"Polarization\", \n",
    "    \"Luminosity Distance\"\n",
    "]\n",
    "\n",
    "# 创建 DataFrame 存储不确定度\n",
    "df = pd.DataFrame(uncertainty_results, index=PARAM_NAMES)\n",
    "df.index.name = \"Parameter\"\n",
    "\n",
    "# 打印 DataFrame 结果\n",
    "print(\"\\n不确定度结果 DataFrame:\")\n",
    "display(df)"
   ]
  },
  {
   "cell_type": "code",
   "execution_count": 7,
   "id": "fed694c5-db50-4094-aabe-8f1763a275c5",
   "metadata": {},
   "outputs": [
    {
     "name": "stdout",
     "output_type": "stream",
     "text": [
      "结果已保存至 fisher_uncertainties_raw.csv\n"
     ]
    }
   ],
   "source": [
    "# 保存结果为 CSV 文件\n",
    "output_file = \"fisher_uncertainties_raw.csv\"\n",
    "df.to_csv(output_file)\n",
    "\n",
    "print(f\"结果已保存至 {output_file}\")"
   ]
  },
  {
   "cell_type": "code",
   "execution_count": 8,
   "id": "545ac32d-0f05-4029-ac9b-d04be8d862c3",
   "metadata": {},
   "outputs": [
    {
     "data": {
      "image/png": "[encoded data removed]",
      "text/plain": [
       "<Figure size 1500x700 with 1 Axes>"
      ]
     },
     "metadata": {},
     "output_type": "display_data"
    }
   ],
   "source": [
    "# 可视化不确定度结果\n",
    "bar_width = 0.25\n",
    "x = np.arange(len(PARAM_NAMES))\n",
    "\n",
    "plt.figure(figsize=(15, 7))\n",
    "\n",
    "# 绘制每个检测器的柱状图\n",
    "for i, detector in enumerate(df.columns):\n",
    "    plt.bar(x + i * bar_width, df[detector], width=bar_width, label=detector)\n",
    "\n",
    "# 设置坐标轴和标题\n",
    "plt.xticks(x + bar_width, PARAM_NAMES, rotation=45, ha='right')\n",
    "plt.xlabel('Parameter')\n",
    "plt.ylabel('Uncertainty')\n",
    "plt.title('Uncertainties per Parameter for Each Detector')\n",
    "plt.legend(title='Detector')\n",
    "\n",
    "plt.tight_layout()\n",
    "plt.show()"
   ]
  },
  {
   "cell_type": "code",
   "execution_count": null,
   "id": "7b88750f-0f41-4bf6-9bc4-702ab8f8255c",
   "metadata": {},
   "outputs": [],
   "source": []
  }
 ],
 "metadata": {
  "kernelspec": {
   "display_name": "Python 3 (ipykernel)",
   "language": "python",
   "name": "python3"
  },
  "language_info": {
   "codemirror_mode": {
    "name": "ipython",
    "version": 3
   },
   "file_extension": ".py",
   "mimetype": "text/x-python",
   "name": "python",
   "nbconvert_exporter": "python",
   "pygments_lexer": "ipython3",
   "version": "3.8.0"
  }
 },
 "nbformat": 4,
 "nbformat_minor": 5
}
