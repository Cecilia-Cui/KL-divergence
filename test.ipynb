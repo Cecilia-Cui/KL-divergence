{
 "cells": [
  {
   "cell_type": "code",
   "execution_count": 1,
   "id": "452aea48",
   "metadata": {},
   "outputs": [
    {
     "name": "stdout",
     "output_type": "stream",
     "text": [
      "The KL divergence is: 1.1438410362258904\n"
     ]
    }
   ],
   "source": [
    "import numpy as np\n",
    "\n",
    "def calculate_kl_divergence(mu1, Sigma1, mu2, Sigma2):\n",
    "    \n",
    "\n",
    "    # Calculate determinants of the covariance matrices\n",
    "    det_Sigma1 = np.linalg.det(Sigma1)\n",
    "    det_Sigma2 = np.linalg.det(Sigma2)\n",
    "\n",
    "    # Calculate the inverse of the covariance matrices\n",
    "    inv_Sigma2 = np.linalg.inv(Sigma2)\n",
    "\n",
    "    # Dimensions of the data (assuming mu1 and mu2 are of the same dimension)\n",
    "    d = mu1.shape[0]\n",
    "\n",
    "    # Calculate the trace of the matrix product Sigma2^{-1} * Sigma1\n",
    "    trace_term = np.trace(np.dot(inv_Sigma2, Sigma1))\n",
    "\n",
    "    # Calculate the quadratic term ((mu2 - mu1)^T * Sigma2^{-1} * (mu2 - mu1))\n",
    "    quadratic_term = np.dot(np.dot((mu2 - mu1).T, inv_Sigma2), (mu2 - mu1))\n",
    "\n",
    "    # Calculate the KL divergence\n",
    "    kl_divergence = 0.5 * (np.log(det_Sigma2/det_Sigma1) - d + trace_term + quadratic_term)\n",
    "\n",
    "    return kl_divergence\n",
    "\n",
    "# Example usage:\n",
    "# Define the mean vectors and covariance matrices for two multivariate Gaussian distributions\n",
    "mu1 = np.array([0, 0])\n",
    "mu2 = np.array([1, 1])\n",
    "Sigma1 = np.array([[1, 0.5], [0.5, 1]])\n",
    "Sigma2 = np.array([[1, 0], [0, 1]])\n",
    "\n",
    "# Calculate the KL divergence\n",
    "kl_divergence = calculate_kl_divergence(mu1, Sigma1, mu2, Sigma2)\n",
    "print(f\"The KL divergence is: {kl_divergence}\")"
   ]
  },
  {
   "cell_type": "code",
   "execution_count": null,
   "id": "96f1c47d",
   "metadata": {},
   "outputs": [],
   "source": []
  }
 ],
 "metadata": {
  "kernelspec": {
   "display_name": "Python 3 (ipykernel)",
   "language": "python",
   "name": "python3"
  },
  "language_info": {
   "codemirror_mode": {
    "name": "ipython",
    "version": 3
   },
   "file_extension": ".py",
   "mimetype": "text/x-python",
   "name": "python",
   "nbconvert_exporter": "python",
   "pygments_lexer": "ipython3",
   "version": "3.8.16"
  }
 },
 "nbformat": 4,
 "nbformat_minor": 5
}
