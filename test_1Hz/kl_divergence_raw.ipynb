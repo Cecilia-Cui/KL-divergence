{
 "cells": [
  {
   "cell_type": "code",
   "execution_count": 1,
   "id": "538c45a4-0596-4e7d-9563-f602816e7ce3",
   "metadata": {},
   "outputs": [
    {
     "name": "stdout",
     "output_type": "stream",
     "text": [
      "[[ 3.59398158e+03 -6.80315396e+03  5.31466259e+05 -2.97096161e+02\n",
      "   3.76307932e+03 -5.69785786e+07  2.35129162e+02 -5.90006225e+07\n",
      "  -5.90572417e+02]\n",
      " [-6.80315396e+03  3.92525582e+04 -9.96350278e+05  9.38316402e+02\n",
      "  -2.12468641e+04  3.90980360e+08  1.16381541e+02  4.04246821e+08\n",
      "   3.26626952e+03]\n",
      " [ 5.31466259e+05 -9.96350278e+05  8.59515592e+07 -1.96069020e+01\n",
      "   5.58514198e+05 -2.24669024e+09 -5.26415039e+04 -2.29679909e+09\n",
      "  -8.67248246e+04]\n",
      " [-2.97096161e+02  9.38316402e+02 -1.96069020e+01  1.58377341e+03\n",
      "  -4.66828784e+02  2.62782051e+03 -4.03497268e+03 -2.04626238e+03\n",
      "   2.65757899e-02]\n",
      " [ 3.76307932e+03 -2.12468641e+04  5.58514198e+05 -4.66828784e+02\n",
      "   1.16940151e+04 -2.14381451e+08 -6.46187025e+01 -2.21665972e+08\n",
      "  -1.80333017e+03]\n",
      " [-5.69785786e+07  3.90980360e+08 -2.24669024e+09  2.62782051e+03\n",
      "  -2.14381451e+08  1.95033690e+13  4.11383283e+07  2.02602972e+13\n",
      "   4.70111243e+07]\n",
      " [ 2.35129162e+02  1.16381541e+02 -5.26415039e+04 -4.03497268e+03\n",
      "  -6.46187025e+01  4.11383283e+07  1.11335698e+04  4.26537651e+07\n",
      "   2.07787555e+02]\n",
      " [-5.90006225e+07  4.04246821e+08 -2.29679909e+09 -2.04626238e+03\n",
      "  -2.21665972e+08  2.02602972e+13  4.26537651e+07  2.10467357e+13\n",
      "   4.86917479e+07]\n",
      " [-5.90572417e+02  3.26626952e+03 -8.67248246e+04  2.65757899e-02\n",
      "  -1.80333017e+03  4.70111243e+07  2.07787555e+02  4.86917479e+07\n",
      "   2.98888008e+02]]\n"
     ]
    }
   ],
   "source": [
    "import numpy as np\n",
    "import pickle\n",
    "\n",
    "# 指定.pkl文件的路径\n",
    "file_path = \"./Output/R_ET_1/R_ET_1_0.pkl\"\n",
    "\n",
    "# 打开并读取.pkl文件中的数据\n",
    "with open(file_path, 'rb') as f:\n",
    "    [SNR, FM, wholeFM, SNRw] = pickle.load(f)\n",
    "\n",
    "fisher_matrix_1 = FM\n",
    "print(fisher_matrix_1)"
   ]
  },
  {
   "cell_type": "code",
   "execution_count": 2,
   "id": "16d891e2-7466-427c-b311-f53894828e3c",
   "metadata": {},
   "outputs": [
    {
     "name": "stdout",
     "output_type": "stream",
     "text": [
      "[[ 3.05890121e+04 -6.82381188e+03  4.63396368e+06 -1.38285953e+03\n",
      "   3.28992826e+03 -1.35123108e+08  5.36781501e+03 -1.38399253e+08\n",
      "  -4.66723006e+03]\n",
      " [-6.82381188e+03  1.42664085e+04 -1.17696810e+06 -1.01302648e+04\n",
      "  -7.65946071e+03  3.79244586e+08 -1.46201542e+03  3.92033615e+08\n",
      "   3.38263713e+03]\n",
      " [ 4.63396368e+06 -1.17696810e+06  7.13305006e+08  1.65011063e+03\n",
      "   5.78872622e+05 -1.51022352e+10  7.77839590e+05 -1.53775773e+10\n",
      "  -7.13740605e+05]\n",
      " [-1.38285953e+03 -1.01302648e+04  1.65011063e+03  1.19903949e+04\n",
      "   5.58494136e+03  1.73389636e+04 -2.70539440e+03  1.11482606e+03\n",
      "  -2.01166454e-01]\n",
      " [ 3.28992826e+03 -7.65946071e+03  5.78872622e+05  5.58494136e+03\n",
      "   4.21591905e+03 -2.18388705e+08  7.79607348e+02 -2.25805739e+08\n",
      "  -1.85569885e+03]\n",
      " [-1.35123108e+08  3.79244586e+08 -1.51022352e+10  1.73389636e+04\n",
      "  -2.18388705e+08  6.86492016e+13 -2.81579238e+08  7.12063697e+13\n",
      "   2.53117439e+08]\n",
      " [ 5.36781501e+03 -1.46201542e+03  7.77839590e+05 -2.70539440e+03\n",
      "   7.79607348e+02 -2.81579238e+08  3.44197176e+03 -2.91042180e+08\n",
      "  -2.48717381e+03]\n",
      " [-1.38399253e+08  3.92033615e+08 -1.53775773e+10  1.11482606e+03\n",
      "  -2.25805739e+08  7.12063697e+13 -2.91042180e+08  7.38595751e+13\n",
      "   2.61613329e+08]\n",
      " [-4.66723006e+03  3.38263713e+03 -7.13740605e+05 -2.01166454e-01\n",
      "  -1.85569885e+03  2.53117439e+08 -2.48717381e+03  2.61613329e+08\n",
      "   2.26263396e+03]]\n"
     ]
    }
   ],
   "source": [
    "# 处理第二个文件\n",
    "file_path = \"./Output/R_ET_2/R_ET_2_0.pkl\"\n",
    "with open(file_path, 'rb') as f:\n",
    "    [SNR, FM, wholeFM, SNRw] = pickle.load(f)\n",
    "fisher_matrix_2 = FM\n",
    "print(fisher_matrix_2)"
   ]
  },
  {
   "cell_type": "code",
   "execution_count": 3,
   "id": "a753bca5-a884-463f-8d9b-cf282dc97d3b",
   "metadata": {},
   "outputs": [
    {
     "name": "stdout",
     "output_type": "stream",
     "text": [
      "[[ 3.20611655e+04 -8.69832085e+03  4.89912034e+06 -1.44544035e+03\n",
      "   4.37506462e+03 -1.38804369e+08 -4.31534111e+03 -1.42131191e+08\n",
      "  -4.90433404e+03]\n",
      " [-8.69832085e+03  1.17705349e+04 -1.18360243e+06  9.28278343e+03\n",
      "  -6.27507706e+03  3.75914755e+08  1.30228043e+03  3.88548004e+08\n",
      "   3.38086385e+03]\n",
      " [ 4.89912034e+06 -1.18360243e+06  7.56766684e+08  1.76558530e+03\n",
      "   5.76217713e+05 -1.66181675e+10 -7.19502579e+05 -1.69334781e+10\n",
      "  -7.58800334e+05]\n",
      " [-1.44544035e+03  9.28278343e+03  1.76558530e+03  1.29331261e+04\n",
      "  -5.08136148e+03  1.88326909e+04 -2.56832752e+03 -5.14377541e+02\n",
      "  -2.55769846e-01]\n",
      " [ 4.37506462e+03 -6.27507706e+03  5.76217713e+05 -5.08136148e+03\n",
      "   3.48624177e+03 -2.18194562e+08 -7.09132225e+02 -2.25592000e+08\n",
      "  -1.85286893e+03]\n",
      " [-1.38804369e+08  3.75914755e+08 -1.66181675e+10  1.88326909e+04\n",
      "  -2.18194562e+08  8.17869676e+13  2.39110073e+08  8.48481618e+13\n",
      "   2.88080769e+08]\n",
      " [-4.31534111e+03  1.30228043e+03 -7.19502579e+05 -2.56832752e+03\n",
      "  -7.09132225e+02  2.39110073e+08  2.69555613e+03  2.47030620e+08\n",
      "   2.26297244e+03]\n",
      " [-1.42131191e+08  3.88548004e+08 -1.69334781e+10 -5.14377541e+02\n",
      "  -2.25592000e+08  8.48481618e+13  2.47030620e+08  8.80247793e+13\n",
      "   2.97858434e+08]\n",
      " [-4.90433404e+03  3.38086385e+03 -7.58800334e+05 -2.55769846e-01\n",
      "  -1.85286893e+03  2.88080769e+08  2.26297244e+03  2.97858434e+08\n",
      "   2.44047040e+03]]\n"
     ]
    }
   ],
   "source": [
    "# 处理第三个文件\n",
    "file_path = \"./Output/R_ET_3/R_ET_3_0.pkl\"\n",
    "with open(file_path, 'rb') as f:\n",
    "    [SNR, FM, wholeFM, SNRw] = pickle.load(f)\n",
    "fisher_matrix_3 = FM\n",
    "print(fisher_matrix_3)"
   ]
  },
  {
   "cell_type": "code",
   "execution_count": 4,
   "id": "2fdb1c3f-b297-4b81-b871-aacfe53a83ac",
   "metadata": {},
   "outputs": [
    {
     "name": "stdout",
     "output_type": "stream",
     "text": [
      "Shape of fisher_matrix_1: (9, 9)\n",
      "Shape of cov_matrix_1: (9, 9)\n",
      "Shape of fisher_matrix_2: (9, 9)\n",
      "Shape of cov_matrix_2: (9, 9)\n",
      "Shape of fisher_matrix_3: (9, 9)\n",
      "Shape of cov_matrix_3: (9, 9)\n"
     ]
    }
   ],
   "source": [
    "# 计算协方差矩阵\n",
    "def compute_covariance(fisher_matrix):\n",
    "    return np.linalg.pinv(fisher_matrix)\n",
    "\n",
    "# 计算协方差矩阵\n",
    "cov_matrix_1 = compute_covariance(fisher_matrix_1)\n",
    "cov_matrix_2 = compute_covariance(fisher_matrix_2)\n",
    "cov_matrix_3 = compute_covariance(fisher_matrix_3)\n",
    "\n",
    "# 打印验证\n",
    "print(\"Shape of fisher_matrix_1:\", fisher_matrix_1.shape)\n",
    "print(\"Shape of cov_matrix_1:\", cov_matrix_1.shape)\n",
    "print(\"Shape of fisher_matrix_2:\", fisher_matrix_2.shape)\n",
    "print(\"Shape of cov_matrix_2:\", cov_matrix_2.shape)\n",
    "print(\"Shape of fisher_matrix_3:\", fisher_matrix_3.shape)\n",
    "print(\"Shape of cov_matrix_3:\", cov_matrix_3.shape)"
   ]
  },
  {
   "cell_type": "code",
   "execution_count": 5,
   "id": "b19f21b1-a143-4999-ae76-c217eec67c66",
   "metadata": {},
   "outputs": [],
   "source": [
    "# 优化均值计算\n",
    "mean1 = np.mean(cov_matrix_1, axis=0)\n",
    "mean2 = np.mean(cov_matrix_2, axis=0)\n",
    "mean3 = np.mean(cov_matrix_3, axis=0)"
   ]
  },
  {
   "cell_type": "code",
   "execution_count": 6,
   "id": "efba9adf",
   "metadata": {},
   "outputs": [],
   "source": [
    "# 计算 KL 散度\n",
    "def kl_divergence(cov1, mean1, cov2, mean2, matrix_name=\"\"):\n",
    "    try:\n",
    "        inv_cov2 = np.linalg.inv(cov2)\n",
    "    except np.linalg.LinAlgError:\n",
    "        print(f\"{matrix_name} inversion failed, skipping KL computation.\")\n",
    "        return np.nan\n",
    "\n",
    "    term1 = np.trace(inv_cov2 @ cov1)\n",
    "    print(f\"{matrix_name} KL term1 (Trace): {term1}\")\n",
    "\n",
    "    sign1, logdet1 = np.linalg.slogdet(cov1)\n",
    "    sign2, logdet2 = np.linalg.slogdet(cov2)\n",
    "    if sign1 <= 0 or sign2 <= 0:\n",
    "        print(f\"{matrix_name} determinant is non-positive.\")\n",
    "        return np.nan\n",
    "\n",
    "    term2 = logdet2 - logdet1\n",
    "    print(f\"{matrix_name} KL term2 (Log determinant difference): {term2}\")\n",
    "\n",
    "    term3 = (mean2 - mean1).T @ inv_cov2 @ (mean2 - mean1)\n",
    "    print(f\"{matrix_name} KL term3 (Mean difference): {term3}\")\n",
    "\n",
    "    result = 0.5 * (term1 + term2 + term3 - cov1.shape[0])\n",
    "    print(f\"{matrix_name} KL result: {result}\")\n",
    "\n",
    "    return max(result, 0)"
   ]
  },
  {
   "cell_type": "code",
   "execution_count": 7,
   "id": "4ebf6f62",
   "metadata": {},
   "outputs": [
    {
     "name": "stdout",
     "output_type": "stream",
     "text": [
      "matrix_12 KL term1 (Trace): 727.3576258880678\n",
      "matrix_12 KL term2 (Log determinant difference): -5.095042083931617\n",
      "matrix_12 KL term3 (Mean difference): 1.2739913783130992\n",
      "matrix_12 KL result: 357.26828759122463\n",
      "matrix_13 KL term1 (Trace): 726.9807774963813\n",
      "matrix_13 KL term2 (Log determinant difference): -5.578155255841821\n",
      "matrix_13 KL term3 (Mean difference): 1.2719886297124279\n",
      "matrix_13 KL result: 356.8373054351259\n",
      "matrix_23 KL term1 (Trace): 867.9860863384687\n",
      "matrix_23 KL term2 (Log determinant difference): -0.48311317191020464\n",
      "matrix_23 KL term3 (Mean difference): 0.1233575755160797\n",
      "matrix_23 KL result: 429.31316537103726\n",
      "\n",
      "==== KL Divergence ====\n",
      "KL Divergence between matrix 1 and matrix 2: 357.26828759122463\n",
      "KL Divergence between matrix 1 and matrix 3: 356.8373054351259\n",
      "KL Divergence between matrix 2 and matrix 3: 429.31316537103726\n"
     ]
    }
   ],
   "source": [
    "# 打印 KL 散度\n",
    "kl_12 = kl_divergence(cov_matrix_1, mean1, cov_matrix_2, mean2, \"matrix_12\")\n",
    "kl_13 = kl_divergence(cov_matrix_1, mean1, cov_matrix_3, mean3, \"matrix_13\")\n",
    "kl_23 = kl_divergence(cov_matrix_2, mean2, cov_matrix_3, mean3, \"matrix_23\")\n",
    "\n",
    "print(\"\\n==== KL Divergence ====\")\n",
    "print(f\"KL Divergence between matrix 1 and matrix 2: {kl_12}\")\n",
    "print(f\"KL Divergence between matrix 1 and matrix 3: {kl_13}\")\n",
    "print(f\"KL Divergence between matrix 2 and matrix 3: {kl_23}\")"
   ]
  },
  {
   "cell_type": "code",
   "execution_count": null,
   "id": "2eb759d1-02bf-4c19-8af8-de496f99c6a6",
   "metadata": {},
   "outputs": [],
   "source": []
  }
 ],
 "metadata": {
  "kernelspec": {
   "display_name": "Python 3 (ipykernel)",
   "language": "python",
   "name": "python3"
  },
  "language_info": {
   "codemirror_mode": {
    "name": "ipython",
    "version": 3
   },
   "file_extension": ".py",
   "mimetype": "text/x-python",
   "name": "python",
   "nbconvert_exporter": "python",
   "pygments_lexer": "ipython3",
   "version": "3.8.0"
  }
 },
 "nbformat": 4,
 "nbformat_minor": 5
}
