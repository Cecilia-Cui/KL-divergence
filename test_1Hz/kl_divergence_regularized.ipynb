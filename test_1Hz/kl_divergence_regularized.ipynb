{
 "cells": [
  {
   "cell_type": "code",
   "execution_count": 1,
   "id": "538c45a4-0596-4e7d-9563-f602816e7ce3",
   "metadata": {},
   "outputs": [
    {
     "name": "stdout",
     "output_type": "stream",
     "text": [
      "[[ 3.59398158e+03 -6.80315396e+03  5.31466259e+05 -2.97096161e+02\n",
      "   3.76307932e+03 -5.69785786e+07  2.35129162e+02 -5.90006225e+07\n",
      "  -5.90572417e+02]\n",
      " [-6.80315396e+03  3.92525582e+04 -9.96350278e+05  9.38316402e+02\n",
      "  -2.12468641e+04  3.90980360e+08  1.16381541e+02  4.04246821e+08\n",
      "   3.26626952e+03]\n",
      " [ 5.31466259e+05 -9.96350278e+05  8.59515592e+07 -1.96069020e+01\n",
      "   5.58514198e+05 -2.24669024e+09 -5.26415039e+04 -2.29679909e+09\n",
      "  -8.67248246e+04]\n",
      " [-2.97096161e+02  9.38316402e+02 -1.96069020e+01  1.58377341e+03\n",
      "  -4.66828784e+02  2.62782051e+03 -4.03497268e+03 -2.04626238e+03\n",
      "   2.65757899e-02]\n",
      " [ 3.76307932e+03 -2.12468641e+04  5.58514198e+05 -4.66828784e+02\n",
      "   1.16940151e+04 -2.14381451e+08 -6.46187025e+01 -2.21665972e+08\n",
      "  -1.80333017e+03]\n",
      " [-5.69785786e+07  3.90980360e+08 -2.24669024e+09  2.62782051e+03\n",
      "  -2.14381451e+08  1.95033690e+13  4.11383283e+07  2.02602972e+13\n",
      "   4.70111243e+07]\n",
      " [ 2.35129162e+02  1.16381541e+02 -5.26415039e+04 -4.03497268e+03\n",
      "  -6.46187025e+01  4.11383283e+07  1.11335698e+04  4.26537651e+07\n",
      "   2.07787555e+02]\n",
      " [-5.90006225e+07  4.04246821e+08 -2.29679909e+09 -2.04626238e+03\n",
      "  -2.21665972e+08  2.02602972e+13  4.26537651e+07  2.10467357e+13\n",
      "   4.86917479e+07]\n",
      " [-5.90572417e+02  3.26626952e+03 -8.67248246e+04  2.65757899e-02\n",
      "  -1.80333017e+03  4.70111243e+07  2.07787555e+02  4.86917479e+07\n",
      "   2.98888008e+02]]\n"
     ]
    }
   ],
   "source": [
    "import numpy as np\n",
    "import pickle\n",
    "\n",
    "# 指定.pkl文件的路径\n",
    "file_path = \"./Output/R_ET_1/R_ET_1_0.pkl\"\n",
    "\n",
    "# 打开并读取.pkl文件中的数据\n",
    "with open(file_path, 'rb') as f:\n",
    "    [SNR, FM, wholeFM, SNRw] = pickle.load(f)\n",
    "\n",
    "fisher_matrix_1 = FM\n",
    "\n",
    "print(fisher_matrix_1)"
   ]
  },
  {
   "cell_type": "code",
   "execution_count": 2,
   "id": "16d891e2-7466-427c-b311-f53894828e3c",
   "metadata": {},
   "outputs": [
    {
     "name": "stdout",
     "output_type": "stream",
     "text": [
      "[[ 3.05890121e+04 -6.82381188e+03  4.63396368e+06 -1.38285953e+03\n",
      "   3.28992826e+03 -1.35123108e+08  5.36781501e+03 -1.38399253e+08\n",
      "  -4.66723006e+03]\n",
      " [-6.82381188e+03  1.42664085e+04 -1.17696810e+06 -1.01302648e+04\n",
      "  -7.65946071e+03  3.79244586e+08 -1.46201542e+03  3.92033615e+08\n",
      "   3.38263713e+03]\n",
      " [ 4.63396368e+06 -1.17696810e+06  7.13305006e+08  1.65011063e+03\n",
      "   5.78872622e+05 -1.51022352e+10  7.77839590e+05 -1.53775773e+10\n",
      "  -7.13740605e+05]\n",
      " [-1.38285953e+03 -1.01302648e+04  1.65011063e+03  1.19903949e+04\n",
      "   5.58494136e+03  1.73389636e+04 -2.70539440e+03  1.11482606e+03\n",
      "  -2.01166454e-01]\n",
      " [ 3.28992826e+03 -7.65946071e+03  5.78872622e+05  5.58494136e+03\n",
      "   4.21591905e+03 -2.18388705e+08  7.79607348e+02 -2.25805739e+08\n",
      "  -1.85569885e+03]\n",
      " [-1.35123108e+08  3.79244586e+08 -1.51022352e+10  1.73389636e+04\n",
      "  -2.18388705e+08  6.86492016e+13 -2.81579238e+08  7.12063697e+13\n",
      "   2.53117439e+08]\n",
      " [ 5.36781501e+03 -1.46201542e+03  7.77839590e+05 -2.70539440e+03\n",
      "   7.79607348e+02 -2.81579238e+08  3.44197176e+03 -2.91042180e+08\n",
      "  -2.48717381e+03]\n",
      " [-1.38399253e+08  3.92033615e+08 -1.53775773e+10  1.11482606e+03\n",
      "  -2.25805739e+08  7.12063697e+13 -2.91042180e+08  7.38595751e+13\n",
      "   2.61613329e+08]\n",
      " [-4.66723006e+03  3.38263713e+03 -7.13740605e+05 -2.01166454e-01\n",
      "  -1.85569885e+03  2.53117439e+08 -2.48717381e+03  2.61613329e+08\n",
      "   2.26263396e+03]]\n"
     ]
    }
   ],
   "source": [
    "# 指定.pkl文件的路径\n",
    "file_path = \"./Output/R_ET_2/R_ET_2_0.pkl\"\n",
    "\n",
    "# 打开并读取.pkl文件中的数据\n",
    "with open(file_path, 'rb') as f:\n",
    "    [SNR, FM, wholeFM, SNRw] = pickle.load(f)\n",
    "\n",
    "fisher_matrix_2 = FM\n",
    "\n",
    "print(fisher_matrix_2)"
   ]
  },
  {
   "cell_type": "code",
   "execution_count": 3,
   "id": "a753bca5-a884-463f-8d9b-cf282dc97d3b",
   "metadata": {},
   "outputs": [
    {
     "name": "stdout",
     "output_type": "stream",
     "text": [
      "[[ 3.20611655e+04 -8.69832085e+03  4.89912034e+06 -1.44544035e+03\n",
      "   4.37506462e+03 -1.38804369e+08 -4.31534111e+03 -1.42131191e+08\n",
      "  -4.90433404e+03]\n",
      " [-8.69832085e+03  1.17705349e+04 -1.18360243e+06  9.28278343e+03\n",
      "  -6.27507706e+03  3.75914755e+08  1.30228043e+03  3.88548004e+08\n",
      "   3.38086385e+03]\n",
      " [ 4.89912034e+06 -1.18360243e+06  7.56766684e+08  1.76558530e+03\n",
      "   5.76217713e+05 -1.66181675e+10 -7.19502579e+05 -1.69334781e+10\n",
      "  -7.58800334e+05]\n",
      " [-1.44544035e+03  9.28278343e+03  1.76558530e+03  1.29331261e+04\n",
      "  -5.08136148e+03  1.88326909e+04 -2.56832752e+03 -5.14377541e+02\n",
      "  -2.55769846e-01]\n",
      " [ 4.37506462e+03 -6.27507706e+03  5.76217713e+05 -5.08136148e+03\n",
      "   3.48624177e+03 -2.18194562e+08 -7.09132225e+02 -2.25592000e+08\n",
      "  -1.85286893e+03]\n",
      " [-1.38804369e+08  3.75914755e+08 -1.66181675e+10  1.88326909e+04\n",
      "  -2.18194562e+08  8.17869676e+13  2.39110073e+08  8.48481618e+13\n",
      "   2.88080769e+08]\n",
      " [-4.31534111e+03  1.30228043e+03 -7.19502579e+05 -2.56832752e+03\n",
      "  -7.09132225e+02  2.39110073e+08  2.69555613e+03  2.47030620e+08\n",
      "   2.26297244e+03]\n",
      " [-1.42131191e+08  3.88548004e+08 -1.69334781e+10 -5.14377541e+02\n",
      "  -2.25592000e+08  8.48481618e+13  2.47030620e+08  8.80247793e+13\n",
      "   2.97858434e+08]\n",
      " [-4.90433404e+03  3.38086385e+03 -7.58800334e+05 -2.55769846e-01\n",
      "  -1.85286893e+03  2.88080769e+08  2.26297244e+03  2.97858434e+08\n",
      "   2.44047040e+03]]\n"
     ]
    }
   ],
   "source": [
    "# 指定.pkl文件的路径\n",
    "file_path = \"./Output/R_ET_3/R_ET_3_0.pkl\"\n",
    "\n",
    "# 打开并读取.pkl文件中的数据\n",
    "with open(file_path, 'rb') as f:\n",
    "    [SNR, FM, wholeFM, SNRw] = pickle.load(f)\n",
    "\n",
    "fisher_matrix_3 = FM\n",
    "\n",
    "print(fisher_matrix_3)"
   ]
  },
  {
   "cell_type": "code",
   "execution_count": 4,
   "id": "2fdb1c3f-b297-4b81-b871-aacfe53a83ac",
   "metadata": {},
   "outputs": [],
   "source": [
    "# 动态正则化项函数\n",
    "def get_dynamic_epsilon(matrix):\n",
    "    cond_number = np.linalg.cond(matrix)\n",
    "    eigvals = np.linalg.eigvals(matrix)\n",
    "    eigval_std = np.std(eigvals)\n",
    "    \n",
    "    if cond_number > 1e20 or eigval_std > 1e2:\n",
    "        return 1e-2\n",
    "    elif cond_number > 1e16 or eigval_std > 1e1:\n",
    "        return 1e-3\n",
    "    elif cond_number > 1e12:\n",
    "        return 1e-4\n",
    "    else:\n",
    "        return 1e-6\n",
    "\n",
    "# 确保矩阵正定\n",
    "def ensure_positive_definite(matrix, matrix_name=\"\"):\n",
    "    eigvals, eigvecs = np.linalg.eigh(matrix)\n",
    "    print(f\"{matrix_name} Eigenvalues before clipping: {eigvals}\")\n",
    "    eigvals_clipped = np.clip(eigvals, 1e-2, 1e3)\n",
    "    print(f\"{matrix_name} Eigenvalues after clipping: {eigvals_clipped}\")\n",
    "    matrix_pos_def = eigvecs @ np.diag(eigvals_clipped) @ eigvecs.T\n",
    "    return matrix_pos_def"
   ]
  },
  {
   "cell_type": "code",
   "execution_count": 5,
   "id": "87659a80",
   "metadata": {},
   "outputs": [],
   "source": [
    "# 正则化矩阵\n",
    "def regularize_matrix(matrix, matrix_name=\"\"):\n",
    "    epsilon = get_dynamic_epsilon(matrix)\n",
    "    matrix_sym = (matrix + matrix.T) / 2\n",
    "    return ensure_positive_definite(matrix_sym + epsilon * np.eye(matrix.shape[0]), matrix_name)\n",
    "\n",
    "# 计算协方差矩阵\n",
    "def compute_covariance(fisher_matrix, matrix_name=\"\"):\n",
    "    reg_matrix = regularize_matrix(fisher_matrix, matrix_name)\n",
    "    cov_matrix = np.linalg.pinv(reg_matrix)\n",
    "    return cov_matrix"
   ]
  },
  {
   "cell_type": "code",
   "execution_count": 6,
   "id": "12e42ed1-95fa-4488-9177-938b507849d4",
   "metadata": {},
   "outputs": [
    {
     "name": "stdout",
     "output_type": "stream",
     "text": [
      "matrix_1 Eigenvalues before clipping: [2.79310981e+00 5.15425730e+01 1.14369947e+02 1.87920416e+02\n",
      " 1.67244805e+03 1.30978003e+04 4.71554592e+07 1.02895264e+08\n",
      " 4.05500406e+13]\n",
      "matrix_1 Eigenvalues after clipping: [   2.79310981   51.54257301  114.36994714  187.92041585 1000.\n",
      " 1000.         1000.         1000.         1000.        ]\n",
      "matrix_2 Eigenvalues before clipping: [7.27286103e+00 2.89840204e+01 9.17746053e+01 2.12880972e+02\n",
      " 6.68972333e+02 2.42641547e+04 2.83995346e+08 8.03402771e+08\n",
      " 1.42508403e+14]\n",
      "matrix_2 Eigenvalues after clipping: [   7.27286103   28.9840204    91.77460531  212.88097195  668.97233322\n",
      " 1000.         1000.         1000.         1000.        ]\n",
      "matrix_3 Eigenvalues before clipping: [1.71630155e+01 2.98385788e+01 1.08267599e+02 1.94863665e+02\n",
      " 3.27181128e+02 2.24063633e+04 3.06207572e+08 8.54831599e+08\n",
      " 1.69811343e+14]\n",
      "matrix_3 Eigenvalues after clipping: [  17.16301551   29.83857885  108.26759862  194.86366503  327.18112798\n",
      " 1000.         1000.         1000.         1000.        ]\n",
      "Shape of fisher_matrix_1: (9, 9)\n",
      "Shape of cov_matrix_1: (9, 9)\n",
      "Shape of fisher_matrix_2: (9, 9)\n",
      "Shape of cov_matrix_2: (9, 9)\n",
      "Shape of fisher_matrix_3: (9, 9)\n",
      "Shape of cov_matrix_3: (9, 9)\n"
     ]
    }
   ],
   "source": [
    "# 计算协方差矩阵\n",
    "cov_matrix_1 = compute_covariance(fisher_matrix_1, \"matrix_1\")\n",
    "cov_matrix_2 = compute_covariance(fisher_matrix_2, \"matrix_2\")\n",
    "cov_matrix_3 = compute_covariance(fisher_matrix_3, \"matrix_3\")\n",
    "\n",
    "# 打印验证\n",
    "print(\"Shape of fisher_matrix_1:\", fisher_matrix_1.shape)\n",
    "print(\"Shape of cov_matrix_1:\", cov_matrix_1.shape)\n",
    "print(\"Shape of fisher_matrix_2:\", fisher_matrix_2.shape)\n",
    "print(\"Shape of cov_matrix_2:\", cov_matrix_2.shape)\n",
    "print(\"Shape of fisher_matrix_3:\", fisher_matrix_3.shape)\n",
    "print(\"Shape of cov_matrix_3:\", cov_matrix_3.shape)"
   ]
  },
  {
   "cell_type": "code",
   "execution_count": 7,
   "id": "b19f21b1-a143-4999-ae76-c217eec67c66",
   "metadata": {},
   "outputs": [],
   "source": [
    "# 优化均值计算\n",
    "mean1 = np.mean(cov_matrix_1, axis=0)\n",
    "mean2 = np.mean(cov_matrix_2, axis=0)\n",
    "mean3 = np.mean(cov_matrix_3, axis=0)\n",
    "\n",
    "# 动态调节 KL 散度中的 Trace 和均值差项\n",
    "def dynamic_clip(value, threshold=250):\n",
    "    return min(value, threshold)"
   ]
  },
  {
   "cell_type": "code",
   "execution_count": 8,
   "id": "efba9adf",
   "metadata": {},
   "outputs": [],
   "source": [
    "# 计算 KL 散度\n",
    "def kl_divergence(cov1, mean1, cov2, mean2, matrix_name=\"\"):\n",
    "    cov2_regularized = regularize_matrix(cov2, matrix_name)\n",
    "    eigvals_cov2 = np.linalg.eigvals(cov2_regularized)\n",
    "    if np.any(eigvals_cov2 <= 0):\n",
    "        print(f\"{matrix_name} has non-positive eigenvalues, skipping KL computation.\")\n",
    "        return np.nan\n",
    "\n",
    "    try:\n",
    "        inv_cov2 = np.linalg.inv(cov2_regularized)\n",
    "    except np.linalg.LinAlgError:\n",
    "        print(f\"{matrix_name} inversion failed, skipping KL computation.\")\n",
    "        return np.nan\n",
    "\n",
    "    term1 = np.trace(inv_cov2 @ cov1)\n",
    "    term1 = dynamic_clip(term1)\n",
    "    print(f\"{matrix_name} KL term1 (Trace): {term1}\")\n",
    "\n",
    "    sign1, logdet1 = np.linalg.slogdet(cov1)\n",
    "    sign2, logdet2 = np.linalg.slogdet(cov2_regularized)\n",
    "    if sign1 <= 0 or sign2 <= 0:\n",
    "        print(f\"{matrix_name} determinant is non-positive.\")\n",
    "        return np.nan\n",
    "\n",
    "    term2 = logdet2 - logdet1\n",
    "    print(f\"{matrix_name} KL term2 (Log determinant difference): {term2}\")\n",
    "\n",
    "    term3 = (mean2 - mean1).T @ inv_cov2 @ (mean2 - mean1)\n",
    "    term3 = dynamic_clip(term3)\n",
    "    print(f\"{matrix_name} KL term3 (Mean difference): {term3}\")\n",
    "\n",
    "    result = 0.5 * (term1 + term2 + term3 - cov1.shape[0])\n",
    "    print(f\"{matrix_name} KL result: {result}\")\n",
    "\n",
    "    return max(result, 0)"
   ]
  },
  {
   "cell_type": "code",
   "execution_count": 9,
   "id": "4ebf6f62",
   "metadata": {},
   "outputs": [
    {
     "name": "stdout",
     "output_type": "stream",
     "text": [
      "matrix_12 Eigenvalues before clipping: [0.001001   0.001001   0.001001   0.001001   0.00149583 0.00469846\n",
      " 0.01089726 0.03450277 0.13749847]\n",
      "matrix_12 Eigenvalues after clipping: [0.01       0.01       0.01       0.01       0.01       0.01\n",
      " 0.01089726 0.03450277 0.13749847]\n",
      "matrix_12 KL term1 (Trace): 13.734164829314025\n",
      "matrix_12 KL term2 (Log determinant difference): 11.98267389391794\n",
      "matrix_12 KL term3 (Mean difference): 0.038785493220752316\n",
      "matrix_12 KL result: 8.37781210822636\n",
      "matrix_13 Eigenvalues before clipping: [0.001001   0.001001   0.001001   0.001001   0.00305741 0.00513279\n",
      " 0.00923737 0.03351466 0.05826582]\n",
      "matrix_13 Eigenvalues after clipping: [0.01       0.01       0.01       0.01       0.01       0.01\n",
      " 0.01       0.03351466 0.05826582]\n",
      "matrix_13 KL term1 (Trace): 16.180751465876142\n",
      "matrix_13 KL term2 (Log determinant difference): 11.009093764850988\n",
      "matrix_13 KL term3 (Mean difference): 0.04543276910716889\n",
      "matrix_13 KL result: 9.11763899991715\n",
      "matrix_23 Eigenvalues before clipping: [0.001001   0.001001   0.001001   0.001001   0.00305741 0.00513279\n",
      " 0.00923737 0.03351466 0.05826582]\n",
      "matrix_23 Eigenvalues after clipping: [0.01       0.01       0.01       0.01       0.01       0.01\n",
      " 0.01       0.03351466 0.05826582]\n",
      "matrix_23 KL term1 (Trace): 10.64712736655102\n",
      "matrix_23 KL term2 (Log determinant difference): 10.893023793956154\n",
      "matrix_23 KL term3 (Mean difference): 0.0020820648476773764\n",
      "matrix_23 KL result: 6.2711166126774245\n",
      "\n",
      "==== KL Divergence ====\n",
      "KL Divergence between matrix 1 and matrix 2: 8.37781210822636\n",
      "KL Divergence between matrix 1 and matrix 3: 9.11763899991715\n",
      "KL Divergence between matrix 2 and matrix 3: 6.2711166126774245\n"
     ]
    }
   ],
   "source": [
    "# 打印 KL 散度\n",
    "kl_12 = kl_divergence(cov_matrix_1, mean1, cov_matrix_2, mean2, \"matrix_12\")\n",
    "kl_13 = kl_divergence(cov_matrix_1, mean1, cov_matrix_3, mean3, \"matrix_13\")\n",
    "kl_23 = kl_divergence(cov_matrix_2, mean2, cov_matrix_3, mean3, \"matrix_23\")\n",
    "\n",
    "print(\"\\n==== KL Divergence ====\")\n",
    "print(f\"KL Divergence between matrix 1 and matrix 2: {kl_12}\")\n",
    "print(f\"KL Divergence between matrix 1 and matrix 3: {kl_13}\")\n",
    "print(f\"KL Divergence between matrix 2 and matrix 3: {kl_23}\")"
   ]
  },
  {
   "cell_type": "code",
   "execution_count": 10,
   "id": "2ff9de6f-7ba3-41fd-9ba0-4eccd82ac83d",
   "metadata": {},
   "outputs": [
    {
     "name": "stdout",
     "output_type": "stream",
     "text": [
      "\n",
      "==== Frobenius Distances ====\n",
      "Distance between matrix 1 and matrix 2: 0.3070\n",
      "Distance between matrix 1 and matrix 3: 0.3206\n",
      "Distance between matrix 2 and matrix 3: 0.1102\n"
     ]
    }
   ],
   "source": [
    "def frobenius_distance(matrix1, matrix2):\n",
    "    \"\"\"计算两个矩阵之间的 Frobenius 距离\"\"\"\n",
    "    return np.linalg.norm(matrix1 - matrix2, 'fro')\n",
    "\n",
    "def print_frobenius_results(dist_12, dist_13, dist_23):\n",
    "    \"\"\"格式化输出 Frobenius 距离结果\"\"\"\n",
    "    print(\"\\n==== Frobenius Distances ====\")\n",
    "    print(f\"Distance between matrix 1 and matrix 2: {dist_12:.4f}\")\n",
    "    print(f\"Distance between matrix 1 and matrix 3: {dist_13:.4f}\")\n",
    "    print(f\"Distance between matrix 2 and matrix 3: {dist_23:.4f}\")\n",
    "\n",
    "# 计算并输出 Frobenius 距离\n",
    "dist_12 = frobenius_distance(cov_matrix_1, cov_matrix_2)\n",
    "dist_13 = frobenius_distance(cov_matrix_1, cov_matrix_3)\n",
    "dist_23 = frobenius_distance(cov_matrix_2, cov_matrix_3)\n",
    "\n",
    "print_frobenius_results(dist_12, dist_13, dist_23)"
   ]
  },
  {
   "cell_type": "code",
   "execution_count": null,
   "id": "2eb759d1-02bf-4c19-8af8-de496f99c6a6",
   "metadata": {},
   "outputs": [],
   "source": []
  }
 ],
 "metadata": {
  "kernelspec": {
   "display_name": "Python 3 (ipykernel)",
   "language": "python",
   "name": "python3"
  },
  "language_info": {
   "codemirror_mode": {
    "name": "ipython",
    "version": 3
   },
   "file_extension": ".py",
   "mimetype": "text/x-python",
   "name": "python",
   "nbconvert_exporter": "python",
   "pygments_lexer": "ipython3",
   "version": "3.8.0"
  }
 },
 "nbformat": 4,
 "nbformat_minor": 5
}
