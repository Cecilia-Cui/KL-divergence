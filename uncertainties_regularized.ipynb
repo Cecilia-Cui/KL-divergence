{
 "cells": [
  {
   "cell_type": "code",
   "execution_count": 1,
   "id": "fe44dd6f-263a-4d73-8f59-9c28fb5b3cd0",
   "metadata": {},
   "outputs": [
    {
     "name": "stdout",
     "output_type": "stream",
     "text": [
      "[[ 6.25162357e+02  5.50588656e+03  4.95517563e+05  1.59372497e+03\n",
      "  -6.30320337e+02 -6.58566336e+05 -3.91101952e+02]\n",
      " [ 5.50588656e+03  1.25797291e+05  1.14203147e+07  2.04696721e+02\n",
      "   1.39120379e+03 -3.99264456e+07 -8.73721741e+03]\n",
      " [ 4.95517563e+05  1.14203147e+07  1.03698696e+09  6.39836649e+02\n",
      "   1.34072920e+05 -3.58463400e+09 -7.92854858e+05]\n",
      " [ 1.59372497e+03  2.04696721e+02  6.39836649e+02  6.62828596e+03\n",
      "  -2.84814829e+03 -7.40254013e+03 -2.88889625e+02]\n",
      " [-6.30320337e+02  1.39120379e+03  1.34072920e+05 -2.84814829e+03\n",
      "   1.25901745e+03 -2.47882681e+06 -8.34020492e+01]\n",
      " [-6.58566336e+05 -3.99264456e+07 -3.58463400e+09 -7.40254013e+03\n",
      "  -2.47882681e+06  3.76758877e+11  1.47345779e+07]\n",
      " [-3.91101952e+02 -8.73721741e+03 -7.92854858e+05 -2.88889625e+02\n",
      "  -8.34020492e+01  1.47345779e+07  1.23944815e+03]]\n"
     ]
    }
   ],
   "source": [
    "import numpy as np\n",
    "import pandas as pd\n",
    "import matplotlib.pyplot as plt\n",
    "import pickle\n",
    "\n",
    "# 指定.pkl文件的路径\n",
    "file_path = \"./R_ET_1_0.pkl\"\n",
    "\n",
    "# 打开并读取.pkl文件中的数据\n",
    "with open(file_path, 'rb') as f:\n",
    "    [SNR, FM, wholeFM, SNRw] = pickle.load(f)\n",
    "\n",
    "# 提取 9x9 的 Fisher 矩阵，并仅保留前 7 个参数的子矩阵\n",
    "def extract_relevant_submatrix(matrix, size=7):\n",
    "    \"\"\"提取前 size 个参数的子矩阵\"\"\"\n",
    "    return matrix[:size, :size]\n",
    "\n",
    "fisher_matrix_1 = extract_relevant_submatrix(FM)\n",
    "\n",
    "print(fisher_matrix_1)"
   ]
  },
  {
   "cell_type": "code",
   "execution_count": 2,
   "id": "ac17e1bc-3c4b-4d6a-8b69-b7054ddad8d6",
   "metadata": {},
   "outputs": [
    {
     "name": "stdout",
     "output_type": "stream",
     "text": [
      "[[ 7.04889104e+02  3.83210915e+03  4.16671716e+05 -1.70010064e+03\n",
      "  -9.10510532e+02 -3.89619537e+05  4.39438430e+02]\n",
      " [ 3.83210915e+03  1.09653058e+05  9.84620778e+06  2.56776730e+03\n",
      "   2.91769957e+03 -3.47029700e+07  9.82933138e+03]\n",
      " [ 4.16671716e+05  9.84620778e+06  8.93588681e+08  5.83301204e+02\n",
      "   1.33330583e+05 -3.10804759e+09  9.04640633e+05]\n",
      " [-1.70010064e+03  2.56776730e+03  5.83301204e+02  5.73130357e+03\n",
      "   3.24137321e+03 -6.70079438e+03 -3.10432162e+02]\n",
      " [-9.10510532e+02  2.91769957e+03  1.33330583e+05  3.24137321e+03\n",
      "   1.87305443e+03 -2.46106977e+06  9.48538336e+01]\n",
      " [-3.89619537e+05 -3.47029700e+07 -3.10804759e+09 -6.70079438e+03\n",
      "  -2.46106977e+06  3.29279258e+11 -1.66555844e+07]\n",
      " [ 4.39438430e+02  9.82933138e+03  9.04640633e+05 -3.10432162e+02\n",
      "   9.48538336e+01 -1.66555844e+07  1.85450516e+03]]\n"
     ]
    }
   ],
   "source": [
    "# 指定.pkl文件的路径\n",
    "file_path = \"./R_ET_2_0.pkl\"\n",
    "\n",
    "# 打开并读取.pkl文件中的数据\n",
    "with open(file_path, 'rb') as f:\n",
    "    [SNR, FM, wholeFM, SNRw] = pickle.load(f)\n",
    "\n",
    "# 提取 9x9 的 Fisher 矩阵，并仅保留前 7 个参数的子矩阵\n",
    "def extract_relevant_submatrix(matrix, size=7):\n",
    "    \"\"\"提取前 size 个参数的子矩阵\"\"\"\n",
    "    return matrix[:size, :size]\n",
    "\n",
    "fisher_matrix_2 = extract_relevant_submatrix(FM)\n",
    "\n",
    "print(fisher_matrix_2)"
   ]
  },
  {
   "cell_type": "code",
   "execution_count": 3,
   "id": "b1722af8-e023-4f97-832a-3619f47d5cce",
   "metadata": {},
   "outputs": [
    {
     "name": "stdout",
     "output_type": "stream",
     "text": [
      "[[ 1.71097482e+03 -2.01574273e+03 -6.53431125e+04  2.41872229e+02\n",
      "  -3.23282821e+03  1.29717641e+06 -6.89603632e+01]\n",
      " [-2.01574273e+03  3.53993636e+03  1.77150424e+05 -1.71567840e+02\n",
      "   3.91288660e+03 -1.44958229e+06 -1.49652191e+03]\n",
      " [-6.53431125e+04  1.77150424e+05  1.11239413e+07  3.65512731e+00\n",
      "   1.32416748e+05 -3.70691826e+07 -1.26772612e+05]\n",
      " [ 2.41872229e+02 -1.71567840e+02  3.65512731e+00  6.96489314e+01\n",
      "  -4.46673580e+02 -5.18076640e+01 -4.74031233e+02]\n",
      " [-3.23282821e+03  3.91288660e+03  1.32416748e+05 -4.46673580e+02\n",
      "   6.11764085e+03 -2.44623778e+06 -1.31962575e+01]\n",
      " [ 1.29717641e+06 -1.44958229e+06 -3.70691826e+07 -5.18076640e+01\n",
      "  -2.44623778e+06  3.71338138e+09  2.19779602e+06]\n",
      " [-6.89603632e+01 -1.49652191e+03 -1.26772612e+05 -4.74031233e+02\n",
      "  -1.31962575e+01  2.19779602e+06  6.10459399e+03]]\n"
     ]
    }
   ],
   "source": [
    "# 指定.pkl文件的路径\n",
    "file_path = \"./R_ET_3_0.pkl\"\n",
    "\n",
    "# 打开并读取.pkl文件中的数据\n",
    "with open(file_path, 'rb') as f:\n",
    "    [SNR, FM, wholeFM, SNRw] = pickle.load(f)\n",
    "\n",
    "# 提取 9x9 的 Fisher 矩阵，并仅保留前 7 个参数的子矩阵\n",
    "def extract_relevant_submatrix(matrix, size=7):\n",
    "    \"\"\"提取前 size 个参数的子矩阵\"\"\"\n",
    "    return matrix[:size, :size]\n",
    "\n",
    "fisher_matrix_3 = extract_relevant_submatrix(FM)\n",
    "\n",
    "print(fisher_matrix_3)"
   ]
  },
  {
   "cell_type": "code",
   "execution_count": 4,
   "id": "4eacccbd-85f2-4b00-aa96-28d9d213b197",
   "metadata": {},
   "outputs": [
    {
     "name": "stdout",
     "output_type": "stream",
     "text": [
      "\n",
      "检查 Fisher 矩阵 1 (ET_1):\n",
      "矩阵形状: (7, 7)\n",
      "矩阵条件数: 522418639086516.2\n",
      "是否对称: True\n",
      "\n",
      "检查 Fisher 矩阵 2 (ET_2):\n",
      "矩阵形状: (7, 7)\n",
      "矩阵条件数: 505464962238436.0\n",
      "是否对称: True\n",
      "\n",
      "检查 Fisher 矩阵 3 (ET_3):\n",
      "矩阵形状: (7, 7)\n",
      "矩阵条件数: 326103200513731.7\n",
      "是否对称: True\n"
     ]
    }
   ],
   "source": [
    "def check_fisher_matrix(matrix, name):\n",
    "    print(f\"\\n检查 {name}:\")\n",
    "    print(f\"矩阵形状: {matrix.shape}\")\n",
    "    print(f\"矩阵条件数: {np.linalg.cond(matrix)}\")\n",
    "    print(f\"是否对称: {np.allclose(matrix, matrix.T)}\")\n",
    "\n",
    "# 检查每个 Fisher 矩阵\n",
    "check_fisher_matrix(fisher_matrix_1, \"Fisher 矩阵 1 (ET_1)\")\n",
    "check_fisher_matrix(fisher_matrix_2, \"Fisher 矩阵 2 (ET_2)\")\n",
    "check_fisher_matrix(fisher_matrix_3, \"Fisher 矩阵 3 (ET_3)\")"
   ]
  },
  {
   "cell_type": "code",
   "execution_count": 5,
   "id": "d548c3cc-35b4-4244-970c-9fb19a7b6a90",
   "metadata": {},
   "outputs": [],
   "source": [
    "#参数名列表（去掉 Injection Number 和 Initial Phase）\n",
    "PARAM_NAMES = [\n",
    "    \"Ra\", \"Dec\", \"Mass1\", \"Mass2\", \n",
    "    \"Inclination\", \"Polarization\", \n",
    "    \"Luminosity Distance\"\n",
    "]"
   ]
  },
  {
   "cell_type": "code",
   "execution_count": 6,
   "id": "59889d68-47d5-4385-9043-197bffb3eec7",
   "metadata": {},
   "outputs": [],
   "source": [
    "def get_dynamic_epsilon(matrix):\n",
    "    \"\"\"根据矩阵的条件数和特征值标准差，动态生成正则化参数 epsilon。\"\"\"\n",
    "    cond_number = np.linalg.cond(matrix)\n",
    "    eigvals = np.linalg.eigvals(matrix)\n",
    "    eigval_std = np.std(eigvals)\n",
    "\n",
    "    epsilon = (\n",
    "        1e-2 if cond_number > 1e20 or eigval_std > 1e2 else\n",
    "        1e-3 if cond_number > 1e16 or eigval_std > 1e1 else\n",
    "        1e-4 if cond_number > 1e12 else\n",
    "        1e-6\n",
    "    )\n",
    "    print(f\"条件数: {cond_number}, 特征值标准差: {eigval_std}, 正则化参数: {epsilon}\")\n",
    "    return epsilon"
   ]
  },
  {
   "cell_type": "code",
   "execution_count": 7,
   "id": "412efa3d-0361-4689-a95b-44461b19ef59",
   "metadata": {},
   "outputs": [],
   "source": [
    "def ensure_positive_definite(matrix):\n",
    "    \"\"\"确保矩阵为正定矩阵，并返回处理后的矩阵。\"\"\"\n",
    "    eigvals, eigvecs = np.linalg.eigh(matrix)\n",
    "    eigvals_clipped = np.clip(eigvals, 1e-8, None)  # 将特征值剪裁至最小值 1e-8\n",
    "    return eigvecs @ np.diag(eigvals_clipped) @ eigvecs.T"
   ]
  },
  {
   "cell_type": "code",
   "execution_count": 8,
   "id": "f07fc396-7bdd-42ab-ba3f-f913471aa0ee",
   "metadata": {},
   "outputs": [],
   "source": [
    "def regularize_matrix(matrix):\n",
    "    \"\"\"正则化 Fisher 矩阵，确保其对称且可逆。\"\"\"\n",
    "    epsilon = get_dynamic_epsilon(matrix)\n",
    "    matrix_sym = (matrix + matrix.T) / 2  # 确保矩阵对称\n",
    "    return ensure_positive_definite(matrix_sym + epsilon * np.eye(matrix.shape[0]))"
   ]
  },
  {
   "cell_type": "code",
   "execution_count": 9,
   "id": "5ada2e88-b005-4f9f-a854-8604cbe38ae2",
   "metadata": {},
   "outputs": [],
   "source": [
    "def compute_covariance(fisher_matrix):\n",
    "    \"\"\"根据 Fisher 矩阵计算协方差矩阵，只保留需要的参数部分。\"\"\"\n",
    "    # 只提取我们关心的 7 个参数对应的子矩阵\n",
    "    fisher_submatrix = fisher_matrix[:7, :7]\n",
    "    reg_matrix = regularize_matrix(fisher_submatrix)\n",
    "    covariance_matrix = np.linalg.pinv(reg_matrix)\n",
    "    print(f\"协方差矩阵:\\n{covariance_matrix}\")\n",
    "    return covariance_matrix\n",
    "\n",
    "def compute_uncertainties(cov_matrix):\n",
    "    \"\"\"从协方差矩阵中提取每个参数的不确定度。\"\"\"\n",
    "    uncertainties = np.sqrt(np.diag(cov_matrix))\n",
    "    print(f\"不确定度: {uncertainties}\")\n",
    "    return uncertainties"
   ]
  },
  {
   "cell_type": "code",
   "execution_count": 10,
   "id": "2b9ab292-7ef0-48c1-9013-ed8db7cd163d",
   "metadata": {},
   "outputs": [
    {
     "name": "stdout",
     "output_type": "stream",
     "text": [
      "\n",
      "处理 Fisher 矩阵 1...\n",
      "条件数: 522418639086516.2, 特征值标准差: 131792074413.2653, 正则化参数: 0.01\n",
      "协方差矩阵:\n",
      "[[ 6.98509890e+01 -3.37788472e+00 -1.19452075e-03 -6.89897133e-01\n",
      "   3.72685401e+01  9.89387839e-06 -3.05254572e-01]\n",
      " [-3.37785221e+00  2.20407548e-01 -5.73345638e-04 -1.10228954e-02\n",
      "  -1.89943304e+00 -2.54074962e-07 -6.27138296e-03]\n",
      " [-1.19488036e-03 -5.73327692e-04  7.00369293e-06  5.03993990e-04\n",
      "   4.40208351e-04 -2.73640040e-09  2.41182692e-04]\n",
      " [-6.89922619e-01 -1.10213390e-02  5.03990842e-04  2.32103418e+00\n",
      "   4.92258129e+00 -5.85100377e-07  9.06172536e-01]\n",
      " [ 3.72684843e+01 -1.89944768e+00  4.40401097e-04  4.92259544e+00\n",
      "   3.19808848e+01  4.19535190e-06  1.90131879e+00]\n",
      " [ 9.89400629e-06 -2.54085752e-07 -2.73635165e-09 -5.85098042e-07\n",
      "   4.19542803e-06  9.86512314e-12 -3.90853754e-07]\n",
      " [-3.05266634e-01 -6.27065650e-03  2.41181315e-04  9.06172544e-01\n",
      "   1.90131212e+00 -3.90854899e-07  3.58349788e-01]]\n",
      "\n",
      "处理 Fisher 矩阵 2...\n",
      "条件数: 505464962238436.0, 特征值标准差: 115184011825.21594, 正则化参数: 0.01\n",
      "协方差矩阵:\n",
      "[[ 6.83883346e+01 -3.34901476e+00 -7.07579214e-04 -4.73749659e-01\n",
      "   3.93494626e+01  9.52437878e-06 -1.15751028e-01]\n",
      " [-3.34901002e+00  2.35172629e-01 -7.52521377e-04 -2.62242365e-02\n",
      "  -1.89587635e+00 -1.99832906e-07  4.97023648e-03]\n",
      " [-7.07631606e-04 -7.52518762e-04  8.71712600e-06  5.52552662e-04\n",
      "  -7.52959035e-04 -3.14141809e-09  6.72921659e-06]\n",
      " [-4.73754050e-01 -2.62239670e-02  5.52552106e-04  3.44447832e+00\n",
      "  -6.23435241e+00 -4.87812982e-07  8.72784983e-01]\n",
      " [ 3.93494666e+01 -1.89587931e+00 -7.52928514e-04 -6.23434990e+00\n",
      "   3.30123360e+01  6.02086294e-06 -1.58624770e+00]\n",
      " [ 9.52439659e-06 -1.99834439e-07 -3.14141097e-09 -4.87812575e-07\n",
      "   6.02087278e-06  1.06421086e-11  4.06661617e-08]\n",
      " [-1.15751357e-01  4.97026612e-03  6.72907013e-06  8.72784975e-01\n",
      "  -1.58624788e+00  4.06661669e-08  2.25936870e-01]]\n",
      "\n",
      "处理 Fisher 矩阵 3...\n",
      "条件数: 326103200513731.7, 特征值标准差: 1298921433.7736025, 正则化参数: 0.01\n",
      "协方差矩阵:\n",
      "[[ 7.60941074e+01 -3.15567122e+00 -7.09583770e-03 -4.86594733e+00\n",
      "   4.20333209e+01  1.50318708e-05 -3.53762044e-01]\n",
      " [-3.15567090e+00  3.25042327e+00 -3.42220028e-02 -5.77880516e+00\n",
      "  -3.42034472e+00  2.08195983e-05 -4.13118753e-01]\n",
      " [-7.09584121e-03 -3.42220027e-02  3.82846157e-04  6.61839088e-02\n",
      "   1.45950274e-02 -2.49292370e-07  4.74147582e-03]\n",
      " [-4.86594803e+00 -5.77880510e+00  6.61839086e-02  3.13380479e+01\n",
      "   2.00647012e+00  5.28127168e-05  2.32156923e+00]\n",
      " [ 4.20333207e+01 -3.42034488e+00  1.45950294e-02  2.00647052e+00\n",
      "   2.42327223e+01  4.44346228e-06  1.46022104e-01]\n",
      " [ 1.50318725e-05  2.08195982e-05 -2.49292370e-07  5.28127168e-05\n",
      "   4.44346326e-06  1.39127183e-09  3.70637078e-06]\n",
      " [-3.53762095e-01 -4.13118749e-01  4.74147581e-03  2.32156923e+00\n",
      "   1.46022075e-01  3.70637079e-06  1.72612323e-01]]\n",
      "\n",
      "不确定度结果:\n",
      "ET_1: [8.35769041e+00 4.69475823e-01 2.64644912e-03 1.52349407e+00\n",
      " 5.65516444e+00 3.14087936e-06 5.98623244e-01]\n",
      "ET_2: [8.26972398e+00 4.84946006e-01 2.95247794e-03 1.85593058e+00\n",
      " 5.74563626e+00 3.26222449e-06 4.75328171e-01]\n",
      "ET_3: [8.72319365e+00 1.80289303e+00 1.95664549e-02 5.59803965e+00\n",
      " 4.92267430e+00 3.72997564e-05 4.15466392e-01]\n"
     ]
    }
   ],
   "source": [
    "# 初始化存储不确定度结果的字典\n",
    "uncertainty_results = {}  # 这行非常关键，确保字典已定义\n",
    "\n",
    "# 遍历每个 Fisher 矩阵并计算不确定度\n",
    "for i, fisher_matrix in enumerate([fisher_matrix_1, fisher_matrix_2, fisher_matrix_3], start=1):\n",
    "    print(f\"\\n处理 Fisher 矩阵 {i}...\")\n",
    "    \n",
    "    # 计算协方差矩阵\n",
    "    cov_matrix = compute_covariance(fisher_matrix)  # 删除多余参数\n",
    "    \n",
    "    # 计算不确定度\n",
    "    uncertainties = np.sqrt(np.diag(cov_matrix))  # 提取对角线元素并计算不确定度\n",
    "    \n",
    "    # 将结果存入字典\n",
    "    detector_name = f\"ET_{i}\"\n",
    "    uncertainty_results[detector_name] = uncertainties\n",
    "\n",
    "# 查看不确定度结果\n",
    "print(\"\\n不确定度结果:\")\n",
    "for detector, uncertainties in uncertainty_results.items():\n",
    "    print(f\"{detector}: {uncertainties}\")"
   ]
  },
  {
   "cell_type": "code",
   "execution_count": 11,
   "id": "2a802de7-6b65-4891-965a-dc723dd079b3",
   "metadata": {},
   "outputs": [
    {
     "name": "stdout",
     "output_type": "stream",
     "text": [
      "\n",
      "不确定度结果 DataFrame:\n"
     ]
    },
    {
     "data": {
      "text/html": [
       "<div>\n",
       "<style scoped>\n",
       "    .dataframe tbody tr th:only-of-type {\n",
       "        vertical-align: middle;\n",
       "    }\n",
       "\n",
       "    .dataframe tbody tr th {\n",
       "        vertical-align: top;\n",
       "    }\n",
       "\n",
       "    .dataframe thead th {\n",
       "        text-align: right;\n",
       "    }\n",
       "</style>\n",
       "<table border=\"1\" class=\"dataframe\">\n",
       "  <thead>\n",
       "    <tr style=\"text-align: right;\">\n",
       "      <th></th>\n",
       "      <th>ET_1</th>\n",
       "      <th>ET_2</th>\n",
       "      <th>ET_3</th>\n",
       "    </tr>\n",
       "    <tr>\n",
       "      <th>Parameter</th>\n",
       "      <th></th>\n",
       "      <th></th>\n",
       "      <th></th>\n",
       "    </tr>\n",
       "  </thead>\n",
       "  <tbody>\n",
       "    <tr>\n",
       "      <th>Ra</th>\n",
       "      <td>8.357690</td>\n",
       "      <td>8.269724</td>\n",
       "      <td>8.723194</td>\n",
       "    </tr>\n",
       "    <tr>\n",
       "      <th>Dec</th>\n",
       "      <td>0.469476</td>\n",
       "      <td>0.484946</td>\n",
       "      <td>1.802893</td>\n",
       "    </tr>\n",
       "    <tr>\n",
       "      <th>Mass1</th>\n",
       "      <td>0.002646</td>\n",
       "      <td>0.002952</td>\n",
       "      <td>0.019566</td>\n",
       "    </tr>\n",
       "    <tr>\n",
       "      <th>Mass2</th>\n",
       "      <td>1.523494</td>\n",
       "      <td>1.855931</td>\n",
       "      <td>5.598040</td>\n",
       "    </tr>\n",
       "    <tr>\n",
       "      <th>Inclination</th>\n",
       "      <td>5.655164</td>\n",
       "      <td>5.745636</td>\n",
       "      <td>4.922674</td>\n",
       "    </tr>\n",
       "    <tr>\n",
       "      <th>Polarization</th>\n",
       "      <td>0.000003</td>\n",
       "      <td>0.000003</td>\n",
       "      <td>0.000037</td>\n",
       "    </tr>\n",
       "    <tr>\n",
       "      <th>Luminosity Distance</th>\n",
       "      <td>0.598623</td>\n",
       "      <td>0.475328</td>\n",
       "      <td>0.415466</td>\n",
       "    </tr>\n",
       "  </tbody>\n",
       "</table>\n",
       "</div>"
      ],
      "text/plain": [
       "                         ET_1      ET_2      ET_3\n",
       "Parameter                                        \n",
       "Ra                   8.357690  8.269724  8.723194\n",
       "Dec                  0.469476  0.484946  1.802893\n",
       "Mass1                0.002646  0.002952  0.019566\n",
       "Mass2                1.523494  1.855931  5.598040\n",
       "Inclination          5.655164  5.745636  4.922674\n",
       "Polarization         0.000003  0.000003  0.000037\n",
       "Luminosity Distance  0.598623  0.475328  0.415466"
      ]
     },
     "metadata": {},
     "output_type": "display_data"
    }
   ],
   "source": [
    "# 定义参数名\n",
    "PARAM_NAMES = [\n",
    "    \"Ra\", \"Dec\", \"Mass1\", \"Mass2\", \n",
    "    \"Inclination\", \"Polarization\", \n",
    "    \"Luminosity Distance\"\n",
    "]\n",
    "\n",
    "# 创建 DataFrame 存储不确定度\n",
    "df = pd.DataFrame(uncertainty_results, index=PARAM_NAMES)\n",
    "df.index.name = \"Parameter\"\n",
    "\n",
    "# 打印 DataFrame 结果\n",
    "print(\"\\n不确定度结果 DataFrame:\")\n",
    "display(df)"
   ]
  },
  {
   "cell_type": "code",
   "execution_count": 12,
   "id": "fed694c5-db50-4094-aabe-8f1763a275c5",
   "metadata": {},
   "outputs": [
    {
     "name": "stdout",
     "output_type": "stream",
     "text": [
      "结果已保存至 fisher_uncertainties.csv\n"
     ]
    }
   ],
   "source": [
    "# 保存结果为 CSV 文件\n",
    "output_file = \"fisher_uncertainties.csv\"\n",
    "df.to_csv(output_file)\n",
    "\n",
    "print(f\"结果已保存至 {output_file}\")\n"
   ]
  },
  {
   "cell_type": "code",
   "execution_count": 13,
   "id": "545ac32d-0f05-4029-ac9b-d04be8d862c3",
   "metadata": {},
   "outputs": [
    {
     "data": {
      "image/png": "[encoded data removed]",
      "text/plain": [
       "<Figure size 1500x700 with 1 Axes>"
      ]
     },
     "metadata": {},
     "output_type": "display_data"
    }
   ],
   "source": [
    "# 可视化不确定度结果\n",
    "bar_width = 0.25\n",
    "x = np.arange(len(PARAM_NAMES))\n",
    "\n",
    "plt.figure(figsize=(15, 7))\n",
    "\n",
    "# 绘制每个检测器的柱状图\n",
    "for i, detector in enumerate(df.columns):\n",
    "    plt.bar(x + i * bar_width, df[detector], width=bar_width, label=detector)\n",
    "\n",
    "# 设置坐标轴和标题\n",
    "plt.xticks(x + bar_width, PARAM_NAMES, rotation=45, ha='right')\n",
    "plt.xlabel('Parameter')\n",
    "plt.ylabel('Uncertainty')\n",
    "plt.title('Uncertainties per Parameter for Each Detector')\n",
    "plt.legend(title='Detector')\n",
    "\n",
    "plt.tight_layout()\n",
    "plt.show()"
   ]
  },
  {
   "cell_type": "code",
   "execution_count": null,
   "id": "7b88750f-0f41-4bf6-9bc4-702ab8f8255c",
   "metadata": {},
   "outputs": [],
   "source": []
  }
 ],
 "metadata": {
  "kernelspec": {
   "display_name": "Python 3 (ipykernel)",
   "language": "python",
   "name": "python3"
  },
  "language_info": {
   "codemirror_mode": {
    "name": "ipython",
    "version": 3
   },
   "file_extension": ".py",
   "mimetype": "text/x-python",
   "name": "python",
   "nbconvert_exporter": "python",
   "pygments_lexer": "ipython3",
   "version": "3.8.0"
  }
 },
 "nbformat": 4,
 "nbformat_minor": 5
}
