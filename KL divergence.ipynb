{
 "cells": [
  {
   "cell_type": "code",
   "execution_count": 1,
   "id": "538c45a4-0596-4e7d-9563-f602816e7ce3",
   "metadata": {},
   "outputs": [],
   "source": [
    "import numpy as np\n",
    "import pickle\n",
    "\n",
    "# 加载数据\n",
    "with open('R_ET_1_ET_2_ET_3_0.pkl', 'rb') as file:\n",
    "    data = pickle.load(file)\n",
    "\n",
    "# 提取 9x9 的 Fisher 矩阵，并仅保留前 7 个参数的子矩阵\n",
    "def extract_relevant_submatrix(matrix, size=7):\n",
    "    \"\"\"提取前 size 个参数的子矩阵\"\"\"\n",
    "    return matrix[:size, :size]\n",
    "\n",
    "fisher_matrix_1 = extract_relevant_submatrix(data[1])\n",
    "fisher_matrix_2 = extract_relevant_submatrix(data[2][0])\n",
    "fisher_matrix_3 = extract_relevant_submatrix(data[2][1])"
   ]
  },
  {
   "cell_type": "code",
   "execution_count": 2,
   "id": "2fdb1c3f-b297-4b81-b871-aacfe53a83ac",
   "metadata": {},
   "outputs": [],
   "source": [
    "# 动态正则化项函数\n",
    "def get_dynamic_epsilon(matrix):\n",
    "    cond_number = np.linalg.cond(matrix)\n",
    "    eigvals = np.linalg.eigvals(matrix)\n",
    "    eigval_std = np.std(eigvals)\n",
    "    \n",
    "    if cond_number > 1e20 or eigval_std > 1e2:\n",
    "        return 1e-2\n",
    "    elif cond_number > 1e16 or eigval_std > 1e1:\n",
    "        return 1e-3\n",
    "    elif cond_number > 1e12:\n",
    "        return 1e-4\n",
    "    else:\n",
    "        return 1e-6\n",
    "\n",
    "# 确保矩阵正定\n",
    "def ensure_positive_definite(matrix, matrix_name=\"\"):\n",
    "    eigvals, eigvecs = np.linalg.eigh(matrix)\n",
    "    print(f\"{matrix_name} Eigenvalues before clipping: {eigvals}\")\n",
    "    eigvals_clipped = np.clip(eigvals, 1e-2, 1e3)\n",
    "    print(f\"{matrix_name} Eigenvalues after clipping: {eigvals_clipped}\")\n",
    "    matrix_pos_def = eigvecs @ np.diag(eigvals_clipped) @ eigvecs.T\n",
    "    return matrix_pos_def"
   ]
  },
  {
   "cell_type": "code",
   "execution_count": 3,
   "id": "87659a80",
   "metadata": {},
   "outputs": [],
   "source": [
    "# 正则化矩阵\n",
    "def regularize_matrix(matrix, matrix_name=\"\"):\n",
    "    epsilon = get_dynamic_epsilon(matrix)\n",
    "    matrix_sym = (matrix + matrix.T) / 2\n",
    "    return ensure_positive_definite(matrix_sym + epsilon * np.eye(matrix.shape[0]), matrix_name)\n",
    "\n",
    "# 计算协方差矩阵\n",
    "def compute_covariance(fisher_matrix, matrix_name=\"\"):\n",
    "    reg_matrix = regularize_matrix(fisher_matrix, matrix_name)\n",
    "    cov_matrix = np.linalg.pinv(reg_matrix)\n",
    "    return cov_matrix"
   ]
  },
  {
   "cell_type": "code",
   "execution_count": 4,
   "id": "12e42ed1-95fa-4488-9177-938b507849d4",
   "metadata": {},
   "outputs": [
    {
     "name": "stdout",
     "output_type": "stream",
     "text": [
      "matrix_1 Eigenvalues before clipping: [1.29689868e+00 5.87254906e+02 1.52861020e+05 6.27371238e+05\n",
      " 2.98962960e+06 7.27654712e+10 2.74498770e+13]\n",
      "matrix_1 Eigenvalues after clipping: [   1.29689868  587.25490559 1000.         1000.         1000.\n",
      " 1000.         1000.        ]\n",
      "matrix_2 Eigenvalues before clipping: [1.01472676e-02 1.14831407e-02 2.85245417e+04 1.17082957e+05\n",
      " 4.62740919e+05 2.68476583e+07 2.14312886e+13]\n",
      "matrix_2 Eigenvalues after clipping: [1.01472676e-02 1.14831407e-02 1.00000000e+03 1.00000000e+03\n",
      " 1.00000000e+03 1.00000000e+03 1.00000000e+03]\n",
      "matrix_3 Eigenvalues before clipping: [1.29689868e+00 5.87254906e+02 1.52861020e+05 6.27371238e+05\n",
      " 2.98962960e+06 7.27654712e+10 2.74498770e+13]\n",
      "matrix_3 Eigenvalues after clipping: [   1.29689868  587.25490559 1000.         1000.         1000.\n",
      " 1000.         1000.        ]\n",
      "Shape of fisher_matrix_1: (7, 7)\n",
      "Shape of cov_matrix_1: (7, 7)\n",
      "Shape of fisher_matrix_2: (7, 7)\n",
      "Shape of cov_matrix_2: (7, 7)\n",
      "Shape of fisher_matrix_3: (7, 7)\n",
      "Shape of cov_matrix_3: (7, 7)\n"
     ]
    }
   ],
   "source": [
    "# 计算协方差矩阵\n",
    "cov_matrix_1 = compute_covariance(fisher_matrix_1, \"matrix_1\")\n",
    "cov_matrix_2 = compute_covariance(fisher_matrix_2, \"matrix_2\")\n",
    "cov_matrix_3 = compute_covariance(fisher_matrix_3, \"matrix_3\")\n",
    "\n",
    "# 打印验证\n",
    "print(\"Shape of fisher_matrix_1:\", fisher_matrix_1.shape)\n",
    "print(\"Shape of cov_matrix_1:\", cov_matrix_1.shape)\n",
    "print(\"Shape of fisher_matrix_2:\", fisher_matrix_2.shape)\n",
    "print(\"Shape of cov_matrix_2:\", cov_matrix_2.shape)\n",
    "print(\"Shape of fisher_matrix_3:\", fisher_matrix_3.shape)\n",
    "print(\"Shape of cov_matrix_3:\", cov_matrix_3.shape)"
   ]
  },
  {
   "cell_type": "code",
   "execution_count": 5,
   "id": "b19f21b1-a143-4999-ae76-c217eec67c66",
   "metadata": {},
   "outputs": [],
   "source": [
    "# 优化均值计算\n",
    "mean1 = np.mean(cov_matrix_1, axis=0)\n",
    "mean2 = np.mean(cov_matrix_2, axis=0)\n",
    "mean3 = np.mean(cov_matrix_3, axis=0)\n",
    "\n",
    "# 动态调节 KL 散度中的 Trace 和均值差项\n",
    "def dynamic_clip(value, threshold=250):\n",
    "    return min(value, threshold)"
   ]
  },
  {
   "cell_type": "code",
   "execution_count": 6,
   "id": "efba9adf",
   "metadata": {},
   "outputs": [],
   "source": [
    "# 计算 KL 散度\n",
    "def kl_divergence(cov1, mean1, cov2, mean2, matrix_name=\"\"):\n",
    "    cov2_regularized = regularize_matrix(cov2, matrix_name)\n",
    "    eigvals_cov2 = np.linalg.eigvals(cov2_regularized)\n",
    "    if np.any(eigvals_cov2 <= 0):\n",
    "        print(f\"{matrix_name} has non-positive eigenvalues, skipping KL computation.\")\n",
    "        return np.nan\n",
    "\n",
    "    try:\n",
    "        inv_cov2 = np.linalg.inv(cov2_regularized)\n",
    "    except np.linalg.LinAlgError:\n",
    "        print(f\"{matrix_name} inversion failed, skipping KL computation.\")\n",
    "        return np.nan\n",
    "\n",
    "    term1 = np.trace(inv_cov2 @ cov1)\n",
    "    term1 = dynamic_clip(term1)\n",
    "    print(f\"{matrix_name} KL term1 (Trace): {term1}\")\n",
    "\n",
    "    sign1, logdet1 = np.linalg.slogdet(cov1)\n",
    "    sign2, logdet2 = np.linalg.slogdet(cov2_regularized)\n",
    "    if sign1 <= 0 or sign2 <= 0:\n",
    "        print(f\"{matrix_name} determinant is non-positive.\")\n",
    "        return np.nan\n",
    "\n",
    "    term2 = logdet2 - logdet1\n",
    "    print(f\"{matrix_name} KL term2 (Log determinant difference): {term2}\")\n",
    "\n",
    "    term3 = (mean2 - mean1).T @ inv_cov2 @ (mean2 - mean1)\n",
    "    term3 = dynamic_clip(term3)\n",
    "    print(f\"{matrix_name} KL term3 (Mean difference): {term3}\")\n",
    "\n",
    "    result = 0.5 * (term1 + term2 + term3 - cov1.shape[0])\n",
    "    print(f\"{matrix_name} KL result: {result}\")\n",
    "\n",
    "    return max(result, 0)"
   ]
  },
  {
   "cell_type": "code",
   "execution_count": 7,
   "id": "4ebf6f62",
   "metadata": {},
   "outputs": [
    {
     "name": "stdout",
     "output_type": "stream",
     "text": [
      "matrix_12 Eigenvalues before clipping: [2.00000000e-03 2.00000000e-03 2.00000000e-03 2.00000000e-03\n",
      " 2.00000000e-03 8.70851893e+01 9.85496973e+01]\n",
      "matrix_12 Eigenvalues after clipping: [1.00000000e-02 1.00000000e-02 1.00000000e-02 1.00000000e-02\n",
      " 1.00000000e-02 8.70851893e+01 9.85496973e+01]\n",
      "matrix_12 KL term1 (Trace): 0.5079985941702951\n",
      "matrix_12 KL term2 (Log determinant difference): 27.20580801480043\n",
      "matrix_12 KL term3 (Mean difference): 1.1739928746981054\n",
      "matrix_12 KL result: 10.943899741834414\n",
      "matrix_13 Eigenvalues before clipping: [0.001001   0.001001   0.001001   0.001001   0.001001   0.00170384\n",
      " 0.77107126]\n",
      "matrix_13 Eigenvalues after clipping: [0.01       0.01       0.01       0.01       0.01       0.01\n",
      " 0.77107126]\n",
      "matrix_13 KL term1 (Trace): 1.6702825083950357\n",
      "matrix_13 KL term2 (Log determinant difference): 13.283215552876431\n",
      "matrix_13 KL term3 (Mean difference): 0.0\n",
      "matrix_13 KL result: 3.976749030635734\n",
      "matrix_23 Eigenvalues before clipping: [0.001001   0.001001   0.001001   0.001001   0.001001   0.00170384\n",
      " 0.77107126]\n",
      "matrix_23 Eigenvalues after clipping: [0.01       0.01       0.01       0.01       0.01       0.01\n",
      " 0.77107126]\n",
      "matrix_23 KL term1 (Trace): 250\n",
      "matrix_23 KL term2 (Log determinant difference): -2.409645366661458\n",
      "matrix_23 KL term3 (Mean difference): 250\n",
      "matrix_23 KL result: 245.29517731666925\n",
      "\n",
      "==== KL Divergence ====\n",
      "KL Divergence between matrix 1 and matrix 2: 10.943899741834414\n",
      "KL Divergence between matrix 1 and matrix 3: 3.976749030635734\n",
      "KL Divergence between matrix 2 and matrix 3: 245.29517731666925\n"
     ]
    }
   ],
   "source": [
    "# 打印 KL 散度\n",
    "kl_12 = kl_divergence(cov_matrix_1, mean1, cov_matrix_2, mean2, \"matrix_12\")\n",
    "kl_13 = kl_divergence(cov_matrix_1, mean1, cov_matrix_3, mean3, \"matrix_13\")\n",
    "kl_23 = kl_divergence(cov_matrix_2, mean2, cov_matrix_3, mean3, \"matrix_23\")\n",
    "\n",
    "print(\"\\n==== KL Divergence ====\")\n",
    "print(f\"KL Divergence between matrix 1 and matrix 2: {kl_12}\")\n",
    "print(f\"KL Divergence between matrix 1 and matrix 3: {kl_13}\")\n",
    "print(f\"KL Divergence between matrix 2 and matrix 3: {kl_23}\")"
   ]
  },
  {
   "cell_type": "code",
   "execution_count": 8,
   "id": "2ff9de6f-7ba3-41fd-9ba0-4eccd82ac83d",
   "metadata": {},
   "outputs": [
    {
     "name": "stdout",
     "output_type": "stream",
     "text": [
      "\n",
      "==== Frobenius Distances ====\n",
      "Distance between matrix 1 and matrix 2: 130.9351\n",
      "Distance between matrix 1 and matrix 3: 0.0000\n",
      "Distance between matrix 2 and matrix 3: 130.9351\n"
     ]
    }
   ],
   "source": [
    "def frobenius_distance(matrix1, matrix2):\n",
    "    \"\"\"计算两个矩阵之间的 Frobenius 距离\"\"\"\n",
    "    return np.linalg.norm(matrix1 - matrix2, 'fro')\n",
    "\n",
    "def print_frobenius_results(dist_12, dist_13, dist_23):\n",
    "    \"\"\"格式化输出 Frobenius 距离结果\"\"\"\n",
    "    print(\"\\n==== Frobenius Distances ====\")\n",
    "    print(f\"Distance between matrix 1 and matrix 2: {dist_12:.4f}\")\n",
    "    print(f\"Distance between matrix 1 and matrix 3: {dist_13:.4f}\")\n",
    "    print(f\"Distance between matrix 2 and matrix 3: {dist_23:.4f}\")\n",
    "\n",
    "# 计算并输出 Frobenius 距离\n",
    "dist_12 = frobenius_distance(cov_matrix_1, cov_matrix_2)\n",
    "dist_13 = frobenius_distance(cov_matrix_1, cov_matrix_3)\n",
    "dist_23 = frobenius_distance(cov_matrix_2, cov_matrix_3)\n",
    "\n",
    "print_frobenius_results(dist_12, dist_13, dist_23)"
   ]
  },
  {
   "cell_type": "code",
   "execution_count": null,
   "id": "2eb759d1-02bf-4c19-8af8-de496f99c6a6",
   "metadata": {},
   "outputs": [],
   "source": []
  }
 ],
 "metadata": {
  "kernelspec": {
   "display_name": "Python 3 (ipykernel)",
   "language": "python",
   "name": "python3"
  },
  "language_info": {
   "codemirror_mode": {
    "name": "ipython",
    "version": 3
   },
   "file_extension": ".py",
   "mimetype": "text/x-python",
   "name": "python",
   "nbconvert_exporter": "python",
   "pygments_lexer": "ipython3",
   "version": "3.8.0"
  }
 },
 "nbformat": 4,
 "nbformat_minor": 5
}
